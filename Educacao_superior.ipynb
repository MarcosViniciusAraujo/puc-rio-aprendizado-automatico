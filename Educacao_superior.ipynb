{
 "cells": [
  {
   "cell_type": "code",
   "execution_count": 222,
   "id": "d6eea56f-0141-4aa5-928f-0084e3f52d46",
   "metadata": {},
   "outputs": [],
   "source": [
    "import pandas as pd\n",
    "import seaborn as sns\n",
    "from matplotlib import pyplot as plt\n",
    "from datetime import date"
   ]
  },
  {
   "cell_type": "code",
   "execution_count": 258,
   "id": "ace27d3e-796d-4906-b2db-e1c7532a2022",
   "metadata": {},
   "outputs": [],
   "source": [
    "sns.set_style(\"dark\")\n",
    "\n",
    "pd.set_option('display.float_format', lambda x: '%.3f' % x)"
   ]
  },
  {
   "cell_type": "markdown",
   "id": "668bf70e-20cd-47a9-af2b-d78fa67ae3cb",
   "metadata": {},
   "source": [
    "# Educação de nível superior no Brasil\n",
    "\n",
    "### Integrantes do Grupo\n",
    "- Marcos Vinicius Araujo\n",
    "- Breno Marot\n",
    "- Gabriel Banaggia\n"
   ]
  },
  {
   "cell_type": "markdown",
   "id": "23d1018c-a714-4ba6-a4ca-d868201bef34",
   "metadata": {},
   "source": [
    "## Primeiros passos \n",
    "\n",
    "Esse dataset se trata de informações demográficas de nível superior na educação do brasil, como curso, renda percapta etc."
   ]
  },
  {
   "cell_type": "code",
   "execution_count": 198,
   "id": "4edad035-fbb4-429e-96db-b7908ac2b8f5",
   "metadata": {},
   "outputs": [
    {
     "data": {
      "text/html": [
       "<div>\n",
       "<style scoped>\n",
       "    .dataframe tbody tr th:only-of-type {\n",
       "        vertical-align: middle;\n",
       "    }\n",
       "\n",
       "    .dataframe tbody tr th {\n",
       "        vertical-align: top;\n",
       "    }\n",
       "\n",
       "    .dataframe thead th {\n",
       "        text-align: right;\n",
       "    }\n",
       "</style>\n",
       "<table border=\"1\" class=\"dataframe\">\n",
       "  <thead>\n",
       "    <tr style=\"text-align: right;\">\n",
       "      <th></th>\n",
       "      <th>safra_entrada</th>\n",
       "      <th>dt_nascimento</th>\n",
       "      <th>vl_renda_percapta</th>\n",
       "      <th>vl_renda_familiar_bruta_mensal</th>\n",
       "      <th>nu_percentual_solicitado</th>\n",
       "      <th>sexo</th>\n",
       "      <th>ds_raca_cor</th>\n",
       "      <th>ds_estado_civil</th>\n",
       "      <th>sg_uf_curso</th>\n",
       "      <th>no_municipio_curso</th>\n",
       "      <th>...</th>\n",
       "      <th>qtd_cursada_total</th>\n",
       "      <th>qt_semestre_financiamento</th>\n",
       "      <th>semestre_encerramento</th>\n",
       "      <th>banco</th>\n",
       "      <th>st_fase_contrato</th>\n",
       "      <th>vl_total_liberado</th>\n",
       "      <th>vl_saldo_devedor</th>\n",
       "      <th>nu_dias_atraso</th>\n",
       "      <th>vl_saldo_devedor_atrasado</th>\n",
       "      <th>vl_nota_enem_considerada</th>\n",
       "    </tr>\n",
       "    <tr>\n",
       "      <th>id_masked</th>\n",
       "      <th></th>\n",
       "      <th></th>\n",
       "      <th></th>\n",
       "      <th></th>\n",
       "      <th></th>\n",
       "      <th></th>\n",
       "      <th></th>\n",
       "      <th></th>\n",
       "      <th></th>\n",
       "      <th></th>\n",
       "      <th></th>\n",
       "      <th></th>\n",
       "      <th></th>\n",
       "      <th></th>\n",
       "      <th></th>\n",
       "      <th></th>\n",
       "      <th></th>\n",
       "      <th></th>\n",
       "      <th></th>\n",
       "      <th></th>\n",
       "      <th></th>\n",
       "    </tr>\n",
       "  </thead>\n",
       "  <tbody>\n",
       "    <tr>\n",
       "      <th>654</th>\n",
       "      <td>2013S1</td>\n",
       "      <td>1983-11-10</td>\n",
       "      <td>356,00</td>\n",
       "      <td>1068,00</td>\n",
       "      <td>100,00</td>\n",
       "      <td>F</td>\n",
       "      <td>BRANCO</td>\n",
       "      <td>DIVORCIADO</td>\n",
       "      <td>MS</td>\n",
       "      <td>DOURADOS</td>\n",
       "      <td>...</td>\n",
       "      <td>2.0</td>\n",
       "      <td>2.0</td>\n",
       "      <td>12014.0</td>\n",
       "      <td>NaN</td>\n",
       "      <td>NaN</td>\n",
       "      <td>NaN</td>\n",
       "      <td>NaN</td>\n",
       "      <td>NaN</td>\n",
       "      <td>NaN</td>\n",
       "      <td>NaN</td>\n",
       "    </tr>\n",
       "    <tr>\n",
       "      <th>968</th>\n",
       "      <td>2014S2</td>\n",
       "      <td>1983-07-01</td>\n",
       "      <td>1916,85</td>\n",
       "      <td>1916,85</td>\n",
       "      <td>100,00</td>\n",
       "      <td>F</td>\n",
       "      <td>PARDO</td>\n",
       "      <td>CASADO</td>\n",
       "      <td>MA</td>\n",
       "      <td>SAO LUIS</td>\n",
       "      <td>...</td>\n",
       "      <td>2.0</td>\n",
       "      <td>2.0</td>\n",
       "      <td>22015.0</td>\n",
       "      <td>NaN</td>\n",
       "      <td>NaN</td>\n",
       "      <td>NaN</td>\n",
       "      <td>NaN</td>\n",
       "      <td>NaN</td>\n",
       "      <td>NaN</td>\n",
       "      <td>NaN</td>\n",
       "    </tr>\n",
       "    <tr>\n",
       "      <th>1067</th>\n",
       "      <td>2013S1</td>\n",
       "      <td>1989-12-07</td>\n",
       "      <td>2700,00</td>\n",
       "      <td>2700,00</td>\n",
       "      <td>100,00</td>\n",
       "      <td>F</td>\n",
       "      <td>NEGRO</td>\n",
       "      <td>SOLTEIRO</td>\n",
       "      <td>RO</td>\n",
       "      <td>CACOAL</td>\n",
       "      <td>...</td>\n",
       "      <td>10.0</td>\n",
       "      <td>10.0</td>\n",
       "      <td>NaN</td>\n",
       "      <td>BB</td>\n",
       "      <td>A</td>\n",
       "      <td>57902,67</td>\n",
       "      <td>55726,23</td>\n",
       "      <td>0.0</td>\n",
       "      <td>0,00</td>\n",
       "      <td>NaN</td>\n",
       "    </tr>\n",
       "    <tr>\n",
       "      <th>2214</th>\n",
       "      <td>2012S1</td>\n",
       "      <td>1979-10-08</td>\n",
       "      <td>272,99</td>\n",
       "      <td>818,98</td>\n",
       "      <td>100,00</td>\n",
       "      <td>F</td>\n",
       "      <td>PARDO</td>\n",
       "      <td>SOLTEIRO</td>\n",
       "      <td>SE</td>\n",
       "      <td>ARACAJU</td>\n",
       "      <td>...</td>\n",
       "      <td>10.0</td>\n",
       "      <td>10.0</td>\n",
       "      <td>NaN</td>\n",
       "      <td>CX</td>\n",
       "      <td>A</td>\n",
       "      <td>56159,08</td>\n",
       "      <td>64236,79</td>\n",
       "      <td>1025.0</td>\n",
       "      <td>14170,86</td>\n",
       "      <td>NaN</td>\n",
       "    </tr>\n",
       "    <tr>\n",
       "      <th>2298</th>\n",
       "      <td>2013S2</td>\n",
       "      <td>1989-04-09</td>\n",
       "      <td>1200,00</td>\n",
       "      <td>1200,00</td>\n",
       "      <td>100,00</td>\n",
       "      <td>F</td>\n",
       "      <td>PARDO</td>\n",
       "      <td>CASADO</td>\n",
       "      <td>RJ</td>\n",
       "      <td>CABO FRIO</td>\n",
       "      <td>...</td>\n",
       "      <td>3.0</td>\n",
       "      <td>3.0</td>\n",
       "      <td>12015.0</td>\n",
       "      <td>NaN</td>\n",
       "      <td>NaN</td>\n",
       "      <td>NaN</td>\n",
       "      <td>NaN</td>\n",
       "      <td>NaN</td>\n",
       "      <td>NaN</td>\n",
       "      <td>NaN</td>\n",
       "    </tr>\n",
       "  </tbody>\n",
       "</table>\n",
       "<p>5 rows × 24 columns</p>\n",
       "</div>"
      ],
      "text/plain": [
       "          safra_entrada dt_nascimento vl_renda_percapta  \\\n",
       "id_masked                                                 \n",
       "654              2013S1    1983-11-10            356,00   \n",
       "968              2014S2    1983-07-01           1916,85   \n",
       "1067             2013S1    1989-12-07           2700,00   \n",
       "2214             2012S1    1979-10-08            272,99   \n",
       "2298             2013S2    1989-04-09           1200,00   \n",
       "\n",
       "          vl_renda_familiar_bruta_mensal nu_percentual_solicitado sexo  \\\n",
       "id_masked                                                                \n",
       "654                              1068,00                   100,00    F   \n",
       "968                              1916,85                   100,00    F   \n",
       "1067                             2700,00                   100,00    F   \n",
       "2214                              818,98                   100,00    F   \n",
       "2298                             1200,00                   100,00    F   \n",
       "\n",
       "          ds_raca_cor ds_estado_civil sg_uf_curso no_municipio_curso  ...  \\\n",
       "id_masked                                                             ...   \n",
       "654            BRANCO      DIVORCIADO          MS           DOURADOS  ...   \n",
       "968             PARDO          CASADO          MA           SAO LUIS  ...   \n",
       "1067            NEGRO        SOLTEIRO          RO             CACOAL  ...   \n",
       "2214            PARDO        SOLTEIRO          SE            ARACAJU  ...   \n",
       "2298            PARDO          CASADO          RJ          CABO FRIO  ...   \n",
       "\n",
       "          qtd_cursada_total  qt_semestre_financiamento semestre_encerramento  \\\n",
       "id_masked                                                                      \n",
       "654                     2.0                        2.0               12014.0   \n",
       "968                     2.0                        2.0               22015.0   \n",
       "1067                   10.0                       10.0                   NaN   \n",
       "2214                   10.0                       10.0                   NaN   \n",
       "2298                    3.0                        3.0               12015.0   \n",
       "\n",
       "          banco  st_fase_contrato  vl_total_liberado  vl_saldo_devedor  \\\n",
       "id_masked                                                                \n",
       "654         NaN               NaN                NaN               NaN   \n",
       "968         NaN               NaN                NaN               NaN   \n",
       "1067         BB                 A           57902,67          55726,23   \n",
       "2214         CX                 A           56159,08          64236,79   \n",
       "2298        NaN               NaN                NaN               NaN   \n",
       "\n",
       "          nu_dias_atraso vl_saldo_devedor_atrasado vl_nota_enem_considerada  \n",
       "id_masked                                                                    \n",
       "654                  NaN                       NaN                      NaN  \n",
       "968                  NaN                       NaN                      NaN  \n",
       "1067                 0.0                      0,00                      NaN  \n",
       "2214              1025.0                  14170,86                      NaN  \n",
       "2298                 NaN                       NaN                      NaN  \n",
       "\n",
       "[5 rows x 24 columns]"
      ]
     },
     "execution_count": 198,
     "metadata": {},
     "output_type": "execute_result"
    }
   ],
   "source": [
    "# lendo o dataset\n",
    "\n",
    "df = pd.read_csv('.\\\\data\\\\education.csv', sep=';', index_col='id_masked')\n",
    "df.head()"
   ]
  },
  {
   "cell_type": "code",
   "execution_count": 199,
   "id": "df7dc1ce-2932-4722-93d4-f389b295b849",
   "metadata": {},
   "outputs": [
    {
     "name": "stdout",
     "output_type": "stream",
     "text": [
      "<class 'pandas.core.frame.DataFrame'>\n",
      "Index: 2864538 entries, 654 to 2864538\n",
      "Data columns (total 24 columns):\n",
      " #   Column                          Dtype  \n",
      "---  ------                          -----  \n",
      " 0   safra_entrada                   object \n",
      " 1   dt_nascimento                   object \n",
      " 2   vl_renda_percapta               object \n",
      " 3   vl_renda_familiar_bruta_mensal  object \n",
      " 4   nu_percentual_solicitado        object \n",
      " 5   sexo                            object \n",
      " 6   ds_raca_cor                     object \n",
      " 7   ds_estado_civil                 object \n",
      " 8   sg_uf_curso                     object \n",
      " 9   no_municipio_curso              object \n",
      " 10  no_curso                        object \n",
      " 11  co_curso                        float64\n",
      " 12  ultimo_aditamento               object \n",
      " 13  tipo_ultimo_aditamento          object \n",
      " 14  qtd_cursada_total               float64\n",
      " 15  qt_semestre_financiamento       float64\n",
      " 16  semestre_encerramento           float64\n",
      " 17  banco                           object \n",
      " 18  st_fase_contrato                object \n",
      " 19  vl_total_liberado               object \n",
      " 20  vl_saldo_devedor                object \n",
      " 21  nu_dias_atraso                  float64\n",
      " 22  vl_saldo_devedor_atrasado       object \n",
      " 23  vl_nota_enem_considerada        float64\n",
      "dtypes: float64(6), object(18)\n",
      "memory usage: 546.4+ MB\n"
     ]
    }
   ],
   "source": [
    "df.info()"
   ]
  },
  {
   "cell_type": "code",
   "execution_count": 200,
   "id": "b735b33f-88e8-43a0-b119-9182efbdd197",
   "metadata": {},
   "outputs": [
    {
     "name": "stdout",
     "output_type": "stream",
     "text": [
      "77.9 ns ± 3.13 ns per loop (mean ± std. dev. of 7 runs, 10,000,000 loops each)\n"
     ]
    }
   ],
   "source": [
    "%timeit df"
   ]
  },
  {
   "cell_type": "markdown",
   "id": "09f9790a-bf06-4c48-ad94-cfd52d5f54ce",
   "metadata": {},
   "source": [
    "## Performance do dataset\n",
    "\n",
    "Um passo importante para focar é na performance do dataset e a alteração para tipagem correta. Com eles, podemos diminuir o tempo de execução das operações. [Documentação do pandas sobre performance](https://pandas.pydata.org/docs/user_guide/enhancingperf.html)"
   ]
  },
  {
   "cell_type": "code",
   "execution_count": 201,
   "id": "0761bc98-effa-44d5-aa2a-8ae40367c5a6",
   "metadata": {},
   "outputs": [],
   "source": [
    "# removing problematic line\n",
    "df = df.drop([df.index[2516155]])\n",
    "\n",
    "# performance\n",
    "df['dt_nascimento'] = pd.to_datetime(df['dt_nascimento'], yearfirst=True, format=\"%Y-%m-%d\")\n",
    "df['vl_renda_percapta'] = df['vl_renda_percapta'].apply(lambda x : float(str(x).replace(',', '.')))\n",
    "df['vl_renda_familiar_bruta_mensal'] = df['vl_renda_familiar_bruta_mensal'].apply(lambda x : float(str(x).replace(',', '.')))\n",
    "df['nu_percentual_solicitado'] = df['nu_percentual_solicitado'].apply(lambda x : float(str(x).replace(',', '.')))\n",
    "df['vl_total_liberado'] = df['vl_total_liberado'].apply(lambda x : float(str(x).replace(',', '.')))\n",
    "df['vl_saldo_devedor'] = df['vl_saldo_devedor'].apply(lambda x : float(str(x).replace(',', '.')))\n",
    "df['nu_dias_atraso'] = df['nu_dias_atraso'].fillna(0).astype(int)\n",
    "df['vl_saldo_devedor_atrasado'] = df['vl_saldo_devedor_atrasado'].apply(lambda x : float(str(x).replace(',', '.')))\n",
    "df['co_curso'] = df['co_curso'].fillna(0).astype(int)\n",
    "df['qtd_cursada_total'] = df['qtd_cursada_total'].fillna(0).astype(int)\n",
    "df['qt_semestre_financiamento'] = df['qt_semestre_financiamento'].fillna(0).astype(int)\n",
    "df['semestre_encerramento'] = df['semestre_encerramento'].astype(str)"
   ]
  },
  {
   "cell_type": "code",
   "execution_count": 202,
   "id": "71fb767c-281b-4617-aebd-11c8c7e5b408",
   "metadata": {},
   "outputs": [
    {
     "name": "stdout",
     "output_type": "stream",
     "text": [
      "<class 'pandas.core.frame.DataFrame'>\n",
      "Index: 2864537 entries, 654 to 2864538\n",
      "Data columns (total 24 columns):\n",
      " #   Column                          Dtype         \n",
      "---  ------                          -----         \n",
      " 0   safra_entrada                   object        \n",
      " 1   dt_nascimento                   datetime64[ns]\n",
      " 2   vl_renda_percapta               float64       \n",
      " 3   vl_renda_familiar_bruta_mensal  float64       \n",
      " 4   nu_percentual_solicitado        float64       \n",
      " 5   sexo                            object        \n",
      " 6   ds_raca_cor                     object        \n",
      " 7   ds_estado_civil                 object        \n",
      " 8   sg_uf_curso                     object        \n",
      " 9   no_municipio_curso              object        \n",
      " 10  no_curso                        object        \n",
      " 11  co_curso                        int32         \n",
      " 12  ultimo_aditamento               object        \n",
      " 13  tipo_ultimo_aditamento          object        \n",
      " 14  qtd_cursada_total               int32         \n",
      " 15  qt_semestre_financiamento       int32         \n",
      " 16  semestre_encerramento           object        \n",
      " 17  banco                           object        \n",
      " 18  st_fase_contrato                object        \n",
      " 19  vl_total_liberado               float64       \n",
      " 20  vl_saldo_devedor                float64       \n",
      " 21  nu_dias_atraso                  int32         \n",
      " 22  vl_saldo_devedor_atrasado       float64       \n",
      " 23  vl_nota_enem_considerada        float64       \n",
      "dtypes: datetime64[ns](1), float64(7), int32(4), object(12)\n",
      "memory usage: 502.7+ MB\n"
     ]
    }
   ],
   "source": [
    "df.info()"
   ]
  },
  {
   "cell_type": "code",
   "execution_count": 203,
   "id": "fd0cc66f-2104-404f-b9c6-3c17ca3980e7",
   "metadata": {},
   "outputs": [
    {
     "name": "stdout",
     "output_type": "stream",
     "text": [
      "74.5 ns ± 5.23 ns per loop (mean ± std. dev. of 7 runs, 10,000,000 loops each)\n"
     ]
    }
   ],
   "source": [
    "%timeit df"
   ]
  },
  {
   "cell_type": "code",
   "execution_count": 204,
   "id": "3e8065a1-7406-4128-b803-4e4b2e524d04",
   "metadata": {},
   "outputs": [],
   "source": [
    "# removendo colunas redundantes\n",
    "\n",
    "df.drop(\n",
    "        ['co_curso',\n",
    "         'st_fase_contrato',\n",
    "         'ultimo_aditamento',\n",
    "         'no_municipio_curso',\n",
    "         'qt_semestre_financiamento'], \n",
    "        axis=1, \n",
    "        inplace=True\n",
    "    )"
   ]
  },
  {
   "cell_type": "code",
   "execution_count": 205,
   "id": "7fc261ee-2832-49d4-9f0b-d859eb943011",
   "metadata": {},
   "outputs": [
    {
     "data": {
      "text/plain": [
       "0.9597924551157831"
      ]
     },
     "execution_count": 205,
     "metadata": {},
     "output_type": "execute_result"
    }
   ],
   "source": [
    "df['banco'].count() / df['banco'].size"
   ]
  },
  {
   "cell_type": "code",
   "execution_count": 206,
   "id": "f03b9817-fc60-4643-89cb-892dd8b71617",
   "metadata": {},
   "outputs": [
    {
     "name": "stdout",
     "output_type": "stream",
     "text": [
      "<class 'pandas.core.frame.DataFrame'>\n",
      "Index: 2864537 entries, 654 to 2864538\n",
      "Data columns (total 19 columns):\n",
      " #   Column                          Dtype         \n",
      "---  ------                          -----         \n",
      " 0   safra_entrada                   object        \n",
      " 1   dt_nascimento                   datetime64[ns]\n",
      " 2   vl_renda_percapta               float64       \n",
      " 3   vl_renda_familiar_bruta_mensal  float64       \n",
      " 4   nu_percentual_solicitado        float64       \n",
      " 5   sexo                            object        \n",
      " 6   ds_raca_cor                     object        \n",
      " 7   ds_estado_civil                 object        \n",
      " 8   sg_uf_curso                     object        \n",
      " 9   no_curso                        object        \n",
      " 10  tipo_ultimo_aditamento          object        \n",
      " 11  qtd_cursada_total               int32         \n",
      " 12  semestre_encerramento           object        \n",
      " 13  banco                           object        \n",
      " 14  vl_total_liberado               float64       \n",
      " 15  vl_saldo_devedor                float64       \n",
      " 16  nu_dias_atraso                  int32         \n",
      " 17  vl_saldo_devedor_atrasado       float64       \n",
      " 18  vl_nota_enem_considerada        float64       \n",
      "dtypes: datetime64[ns](1), float64(7), int32(2), object(9)\n",
      "memory usage: 415.2+ MB\n"
     ]
    }
   ],
   "source": [
    "df.info()"
   ]
  },
  {
   "cell_type": "markdown",
   "id": "35d5e94f-d9a8-43d4-a28e-85ccd81d711b",
   "metadata": {},
   "source": [
    "# Análise Exploratória\n",
    "\n",
    "## Analisando cursos"
   ]
  },
  {
   "cell_type": "code",
   "execution_count": 207,
   "id": "ee4c282a-f6fd-49fc-a229-9b87ef0773be",
   "metadata": {},
   "outputs": [
    {
     "data": {
      "text/html": [
       "<div>\n",
       "<style scoped>\n",
       "    .dataframe tbody tr th:only-of-type {\n",
       "        vertical-align: middle;\n",
       "    }\n",
       "\n",
       "    .dataframe tbody tr th {\n",
       "        vertical-align: top;\n",
       "    }\n",
       "\n",
       "    .dataframe thead th {\n",
       "        text-align: right;\n",
       "    }\n",
       "</style>\n",
       "<table border=\"1\" class=\"dataframe\">\n",
       "  <thead>\n",
       "    <tr style=\"text-align: right;\">\n",
       "      <th></th>\n",
       "      <th>vl_renda_percapta</th>\n",
       "      <th>vl_renda_familiar_bruta_mensal</th>\n",
       "      <th>nu_percentual_solicitado</th>\n",
       "      <th>qtd_cursada_total</th>\n",
       "      <th>vl_total_liberado</th>\n",
       "      <th>vl_saldo_devedor</th>\n",
       "      <th>nu_dias_atraso</th>\n",
       "      <th>vl_saldo_devedor_atrasado</th>\n",
       "      <th>vl_nota_enem_considerada</th>\n",
       "    </tr>\n",
       "  </thead>\n",
       "  <tbody>\n",
       "    <tr>\n",
       "      <th>vl_renda_percapta</th>\n",
       "      <td>1.000000</td>\n",
       "      <td>0.714513</td>\n",
       "      <td>-0.385584</td>\n",
       "      <td>0.038498</td>\n",
       "      <td>0.152200</td>\n",
       "      <td>0.124507</td>\n",
       "      <td>-0.174767</td>\n",
       "      <td>-0.117342</td>\n",
       "      <td>0.049046</td>\n",
       "    </tr>\n",
       "    <tr>\n",
       "      <th>vl_renda_familiar_bruta_mensal</th>\n",
       "      <td>0.714513</td>\n",
       "      <td>1.000000</td>\n",
       "      <td>-0.375722</td>\n",
       "      <td>0.041382</td>\n",
       "      <td>0.202678</td>\n",
       "      <td>0.172401</td>\n",
       "      <td>-0.230363</td>\n",
       "      <td>-0.156579</td>\n",
       "      <td>0.069692</td>\n",
       "    </tr>\n",
       "    <tr>\n",
       "      <th>nu_percentual_solicitado</th>\n",
       "      <td>-0.385584</td>\n",
       "      <td>-0.375722</td>\n",
       "      <td>1.000000</td>\n",
       "      <td>0.185169</td>\n",
       "      <td>0.159271</td>\n",
       "      <td>0.149658</td>\n",
       "      <td>0.197273</td>\n",
       "      <td>0.233618</td>\n",
       "      <td>-0.060065</td>\n",
       "    </tr>\n",
       "    <tr>\n",
       "      <th>qtd_cursada_total</th>\n",
       "      <td>0.038498</td>\n",
       "      <td>0.041382</td>\n",
       "      <td>0.185169</td>\n",
       "      <td>1.000000</td>\n",
       "      <td>0.483043</td>\n",
       "      <td>0.464043</td>\n",
       "      <td>-0.194195</td>\n",
       "      <td>0.113829</td>\n",
       "      <td>-0.036211</td>\n",
       "    </tr>\n",
       "    <tr>\n",
       "      <th>vl_total_liberado</th>\n",
       "      <td>0.152200</td>\n",
       "      <td>0.202678</td>\n",
       "      <td>0.159271</td>\n",
       "      <td>0.483043</td>\n",
       "      <td>1.000000</td>\n",
       "      <td>0.972824</td>\n",
       "      <td>-0.209442</td>\n",
       "      <td>0.065881</td>\n",
       "      <td>0.096336</td>\n",
       "    </tr>\n",
       "    <tr>\n",
       "      <th>vl_saldo_devedor</th>\n",
       "      <td>0.124507</td>\n",
       "      <td>0.172401</td>\n",
       "      <td>0.149658</td>\n",
       "      <td>0.464043</td>\n",
       "      <td>0.972824</td>\n",
       "      <td>1.000000</td>\n",
       "      <td>-0.137951</td>\n",
       "      <td>0.133712</td>\n",
       "      <td>0.095145</td>\n",
       "    </tr>\n",
       "    <tr>\n",
       "      <th>nu_dias_atraso</th>\n",
       "      <td>-0.174767</td>\n",
       "      <td>-0.230363</td>\n",
       "      <td>0.197273</td>\n",
       "      <td>-0.194195</td>\n",
       "      <td>-0.209442</td>\n",
       "      <td>-0.137951</td>\n",
       "      <td>1.000000</td>\n",
       "      <td>0.560894</td>\n",
       "      <td>-0.055824</td>\n",
       "    </tr>\n",
       "    <tr>\n",
       "      <th>vl_saldo_devedor_atrasado</th>\n",
       "      <td>-0.117342</td>\n",
       "      <td>-0.156579</td>\n",
       "      <td>0.233618</td>\n",
       "      <td>0.113829</td>\n",
       "      <td>0.065881</td>\n",
       "      <td>0.133712</td>\n",
       "      <td>0.560894</td>\n",
       "      <td>1.000000</td>\n",
       "      <td>-0.049673</td>\n",
       "    </tr>\n",
       "    <tr>\n",
       "      <th>vl_nota_enem_considerada</th>\n",
       "      <td>0.049046</td>\n",
       "      <td>0.069692</td>\n",
       "      <td>-0.060065</td>\n",
       "      <td>-0.036211</td>\n",
       "      <td>0.096336</td>\n",
       "      <td>0.095145</td>\n",
       "      <td>-0.055824</td>\n",
       "      <td>-0.049673</td>\n",
       "      <td>1.000000</td>\n",
       "    </tr>\n",
       "  </tbody>\n",
       "</table>\n",
       "</div>"
      ],
      "text/plain": [
       "                                vl_renda_percapta  \\\n",
       "vl_renda_percapta                        1.000000   \n",
       "vl_renda_familiar_bruta_mensal           0.714513   \n",
       "nu_percentual_solicitado                -0.385584   \n",
       "qtd_cursada_total                        0.038498   \n",
       "vl_total_liberado                        0.152200   \n",
       "vl_saldo_devedor                         0.124507   \n",
       "nu_dias_atraso                          -0.174767   \n",
       "vl_saldo_devedor_atrasado               -0.117342   \n",
       "vl_nota_enem_considerada                 0.049046   \n",
       "\n",
       "                                vl_renda_familiar_bruta_mensal  \\\n",
       "vl_renda_percapta                                     0.714513   \n",
       "vl_renda_familiar_bruta_mensal                        1.000000   \n",
       "nu_percentual_solicitado                             -0.375722   \n",
       "qtd_cursada_total                                     0.041382   \n",
       "vl_total_liberado                                     0.202678   \n",
       "vl_saldo_devedor                                      0.172401   \n",
       "nu_dias_atraso                                       -0.230363   \n",
       "vl_saldo_devedor_atrasado                            -0.156579   \n",
       "vl_nota_enem_considerada                              0.069692   \n",
       "\n",
       "                                nu_percentual_solicitado  qtd_cursada_total  \\\n",
       "vl_renda_percapta                              -0.385584           0.038498   \n",
       "vl_renda_familiar_bruta_mensal                 -0.375722           0.041382   \n",
       "nu_percentual_solicitado                        1.000000           0.185169   \n",
       "qtd_cursada_total                               0.185169           1.000000   \n",
       "vl_total_liberado                               0.159271           0.483043   \n",
       "vl_saldo_devedor                                0.149658           0.464043   \n",
       "nu_dias_atraso                                  0.197273          -0.194195   \n",
       "vl_saldo_devedor_atrasado                       0.233618           0.113829   \n",
       "vl_nota_enem_considerada                       -0.060065          -0.036211   \n",
       "\n",
       "                                vl_total_liberado  vl_saldo_devedor  \\\n",
       "vl_renda_percapta                        0.152200          0.124507   \n",
       "vl_renda_familiar_bruta_mensal           0.202678          0.172401   \n",
       "nu_percentual_solicitado                 0.159271          0.149658   \n",
       "qtd_cursada_total                        0.483043          0.464043   \n",
       "vl_total_liberado                        1.000000          0.972824   \n",
       "vl_saldo_devedor                         0.972824          1.000000   \n",
       "nu_dias_atraso                          -0.209442         -0.137951   \n",
       "vl_saldo_devedor_atrasado                0.065881          0.133712   \n",
       "vl_nota_enem_considerada                 0.096336          0.095145   \n",
       "\n",
       "                                nu_dias_atraso  vl_saldo_devedor_atrasado  \\\n",
       "vl_renda_percapta                    -0.174767                  -0.117342   \n",
       "vl_renda_familiar_bruta_mensal       -0.230363                  -0.156579   \n",
       "nu_percentual_solicitado              0.197273                   0.233618   \n",
       "qtd_cursada_total                    -0.194195                   0.113829   \n",
       "vl_total_liberado                    -0.209442                   0.065881   \n",
       "vl_saldo_devedor                     -0.137951                   0.133712   \n",
       "nu_dias_atraso                        1.000000                   0.560894   \n",
       "vl_saldo_devedor_atrasado             0.560894                   1.000000   \n",
       "vl_nota_enem_considerada             -0.055824                  -0.049673   \n",
       "\n",
       "                                vl_nota_enem_considerada  \n",
       "vl_renda_percapta                               0.049046  \n",
       "vl_renda_familiar_bruta_mensal                  0.069692  \n",
       "nu_percentual_solicitado                       -0.060065  \n",
       "qtd_cursada_total                              -0.036211  \n",
       "vl_total_liberado                               0.096336  \n",
       "vl_saldo_devedor                                0.095145  \n",
       "nu_dias_atraso                                 -0.055824  \n",
       "vl_saldo_devedor_atrasado                      -0.049673  \n",
       "vl_nota_enem_considerada                        1.000000  "
      ]
     },
     "execution_count": 207,
     "metadata": {},
     "output_type": "execute_result"
    }
   ],
   "source": [
    "df.corr(numeric_only=True)"
   ]
  },
  {
   "cell_type": "code",
   "execution_count": 208,
   "id": "10c16f21-d28e-4b21-8941-915238cb54c1",
   "metadata": {},
   "outputs": [
    {
     "data": {
      "text/plain": [
       "<Axes: title={'center': 'Top 25 cursos financiados'}, ylabel='no_curso'>"
      ]
     },
     "execution_count": 208,
     "metadata": {},
     "output_type": "execute_result"
    },
    {
     "data": {
      "image/png": "[encoded data removed]",
      "text/plain": [
       "<Figure size 640x480 with 1 Axes>"
      ]
     },
     "metadata": {},
     "output_type": "display_data"
    }
   ],
   "source": [
    "freq_curso = df['no_curso'].value_counts(normalize=True)\n",
    "\n",
    "freq_curso[25::-1].plot(kind='barh', color='red', title='Top 25 cursos financiados')"
   ]
  },
  {
   "cell_type": "code",
   "execution_count": 209,
   "id": "2bd356d4-2380-4353-8c8f-014204dee89c",
   "metadata": {},
   "outputs": [
    {
     "data": {
      "text/plain": [
       "'Percentual de pessoal dos Top 25 cursos: 86.05%'"
      ]
     },
     "execution_count": 209,
     "metadata": {},
     "output_type": "execute_result"
    }
   ],
   "source": [
    "f'Percentual de pessoal dos Top 25 cursos:{freq_curso[:25].sum() / freq_curso.sum() * 100 : .2f}%'"
   ]
  },
  {
   "cell_type": "markdown",
   "id": "a0047947-3c45-49c7-90c7-1c20e22c1f0f",
   "metadata": {},
   "source": [
    "## Safra de entrada"
   ]
  },
  {
   "cell_type": "code",
   "execution_count": 210,
   "id": "5cbd11be-e311-4050-a33f-d263fb7153ab",
   "metadata": {},
   "outputs": [
    {
     "data": {
      "text/plain": [
       "array(['2013S1', '2014S2', '2012S1', '2013S2', '2010S2', '2011S2',\n",
       "       '2011S1', '2012S2', '2014S1', '2010S1', '2015S1', '2018S1',\n",
       "       '2017S2', '2017S1', '2016S2', '2022S1', '2016S1', '2018S2',\n",
       "       '2021S2', '2019S1', '2015S2', '2021S1', '2019S2', '2020S1',\n",
       "       '2020S2'], dtype=object)"
      ]
     },
     "execution_count": 210,
     "metadata": {},
     "output_type": "execute_result"
    }
   ],
   "source": [
    "df['safra_entrada'].unique()"
   ]
  },
  {
   "cell_type": "code",
   "execution_count": 211,
   "id": "4c0705fa-f2e9-43a2-a971-4f44b78e3b59",
   "metadata": {},
   "outputs": [
    {
     "data": {
      "text/plain": [
       "array(['2013.1', '2014.2', '2012.1', '2013.2', '2010.2', '2011.2',\n",
       "       '2011.1', '2012.2', '2014.1', '2010.1', '2015.1', '2018.1',\n",
       "       '2017.2', '2017.1', '2016.2', '2022.1', '2016.1', '2018.2',\n",
       "       '2021.2', '2019.1', '2015.2', '2021.1', '2019.2', '2020.1',\n",
       "       '2020.2'], dtype=object)"
      ]
     },
     "execution_count": 211,
     "metadata": {},
     "output_type": "execute_result"
    }
   ],
   "source": [
    "df['safra_entrada'] = df['safra_entrada'].apply(lambda x : x.replace('S', '.'))\n",
    "\n",
    "df['safra_entrada'].unique()"
   ]
  },
  {
   "cell_type": "markdown",
   "id": "ad7232f7-010d-4ccb-8526-8c7de7754aa8",
   "metadata": {},
   "source": [
    "## Data de Nascimento **TODO**"
   ]
  },
  {
   "cell_type": "code",
   "execution_count": 241,
   "id": "3a3f7fcf-fbd5-40bb-ae78-a28c6be9d42f",
   "metadata": {},
   "outputs": [],
   "source": [
    "def calculate_age(born):\n",
    "    today = date.today()\n",
    "    return today.year - born.year - ((today.month, today.day) < (born.month, born.day))"
   ]
  },
  {
   "cell_type": "code",
   "execution_count": 251,
   "id": "9a2f927d-12e7-419d-86b3-3e7e5f3dca48",
   "metadata": {},
   "outputs": [],
   "source": [
    "df['idade'] = df['dt_nascimento'].apply(calculate_age)"
   ]
  },
  {
   "cell_type": "code",
   "execution_count": 253,
   "id": "7bc436ea-8f27-4dcf-b8bd-24eab1afb752",
   "metadata": {},
   "outputs": [
    {
     "data": {
      "text/plain": [
       "2800007"
      ]
     },
     "execution_count": 253,
     "metadata": {},
     "output_type": "execute_result"
    }
   ],
   "source": [
    "df['idade'].idxmax()"
   ]
  },
  {
   "cell_type": "code",
   "execution_count": 254,
   "id": "5c00fddc-d410-47f0-9c3b-79272b3b54b6",
   "metadata": {},
   "outputs": [
    {
     "data": {
      "text/plain": [
       "59"
      ]
     },
     "execution_count": 254,
     "metadata": {},
     "output_type": "execute_result"
    }
   ],
   "source": [
    "calculate_age(df.iloc[2800007]['dt_nascimento'])"
   ]
  },
  {
   "cell_type": "markdown",
   "id": "9e6c1e79-4f13-4446-b36a-f5269b74fbee",
   "metadata": {},
   "source": [
    "## Renda"
   ]
  },
  {
   "cell_type": "code",
   "execution_count": 259,
   "id": "1a1ad3b7-0770-4bd0-be8b-95f54b40d758",
   "metadata": {},
   "outputs": [
    {
     "data": {
      "text/html": [
       "<div>\n",
       "<style scoped>\n",
       "    .dataframe tbody tr th:only-of-type {\n",
       "        vertical-align: middle;\n",
       "    }\n",
       "\n",
       "    .dataframe tbody tr th {\n",
       "        vertical-align: top;\n",
       "    }\n",
       "\n",
       "    .dataframe thead th {\n",
       "        text-align: right;\n",
       "    }\n",
       "</style>\n",
       "<table border=\"1\" class=\"dataframe\">\n",
       "  <thead>\n",
       "    <tr style=\"text-align: right;\">\n",
       "      <th></th>\n",
       "      <th>vl_renda_percapta</th>\n",
       "      <th>vl_renda_familiar_bruta_mensal</th>\n",
       "    </tr>\n",
       "  </thead>\n",
       "  <tbody>\n",
       "    <tr>\n",
       "      <th>count</th>\n",
       "      <td>2864537.000</td>\n",
       "      <td>2864537.000</td>\n",
       "    </tr>\n",
       "    <tr>\n",
       "      <th>mean</th>\n",
       "      <td>822.695</td>\n",
       "      <td>2180.532</td>\n",
       "    </tr>\n",
       "    <tr>\n",
       "      <th>std</th>\n",
       "      <td>609.441</td>\n",
       "      <td>1871.722</td>\n",
       "    </tr>\n",
       "    <tr>\n",
       "      <th>min</th>\n",
       "      <td>0.000</td>\n",
       "      <td>0.000</td>\n",
       "    </tr>\n",
       "    <tr>\n",
       "      <th>25%</th>\n",
       "      <td>450.000</td>\n",
       "      <td>1000.000</td>\n",
       "    </tr>\n",
       "    <tr>\n",
       "      <th>50%</th>\n",
       "      <td>692.790</td>\n",
       "      <td>1600.000</td>\n",
       "    </tr>\n",
       "    <tr>\n",
       "      <th>75%</th>\n",
       "      <td>1000.000</td>\n",
       "      <td>2700.000</td>\n",
       "    </tr>\n",
       "    <tr>\n",
       "      <th>max</th>\n",
       "      <td>23151.950</td>\n",
       "      <td>89000.000</td>\n",
       "    </tr>\n",
       "  </tbody>\n",
       "</table>\n",
       "</div>"
      ],
      "text/plain": [
       "       vl_renda_percapta  vl_renda_familiar_bruta_mensal\n",
       "count        2864537.000                     2864537.000\n",
       "mean             822.695                        2180.532\n",
       "std              609.441                        1871.722\n",
       "min                0.000                           0.000\n",
       "25%              450.000                        1000.000\n",
       "50%              692.790                        1600.000\n",
       "75%             1000.000                        2700.000\n",
       "max            23151.950                       89000.000"
      ]
     },
     "execution_count": 259,
     "metadata": {},
     "output_type": "execute_result"
    }
   ],
   "source": [
    "df[['vl_renda_percapta', 'vl_renda_familiar_bruta_mensal' ]].describe()"
   ]
  },
  {
   "cell_type": "code",
   "execution_count": 271,
   "id": "b1a240fa-bd15-4db7-80ea-bcb588936d38",
   "metadata": {},
   "outputs": [
    {
     "data": {
      "text/plain": [
       "(0, 0)"
      ]
     },
     "execution_count": 271,
     "metadata": {},
     "output_type": "execute_result"
    }
   ],
   "source": [
    "(df['vl_renda_familiar_bruta_mensal'] \\\n",
    "    .loc[df['vl_renda_familiar_bruta_mensal'].isna()] \\\n",
    "    .count()\n",
    ",\n",
    " \n",
    "df['vl_renda_percapta'] \\\n",
    "    .loc[df['vl_renda_percapta'].isna()] \\\n",
    "    .count())"
   ]
  },
  {
   "cell_type": "code",
   "execution_count": 275,
   "id": "7f56506c-ac0a-4da1-aae5-591ebb11d991",
   "metadata": {},
   "outputs": [
    {
     "data": {
      "text/plain": [
       "<Axes: >"
      ]
     },
     "execution_count": 275,
     "metadata": {},
     "output_type": "execute_result"
    },
    {
     "data": {
      "image/png": "[encoded data removed]",
      "text/plain": [
       "<Figure size 640x480 with 1 Axes>"
      ]
     },
     "metadata": {},
     "output_type": "display_data"
    }
   ],
   "source": [
    "df_rendas = df[['vl_renda_percapta', 'vl_renda_familiar_bruta_mensal' ]]\n",
    "\n",
    "sns.boxplot(\n",
    "    data = df_rendas,\n",
    "    showfliers=False\n",
    ")"
   ]
  },
  {
   "cell_type": "markdown",
   "id": "98ac9961-6523-435b-b109-d6dbd52be586",
   "metadata": {},
   "source": [
    "# Removendo outliers\n",
    "\n",
    "Podemos perceebr que a coluna _no_curso_ tem um número exorbitante de **outliers**. Isso não significa que esses cursos que estão presentes na base são frutos de algum tipo de má digitação, ou erro em geral. Essa remoção está sendo feita, pois existem muitos cursos com poucas pessoas inscritas. Podemos ver isso no gráfico abaixo"
   ]
  },
  {
   "cell_type": "code",
   "execution_count": 213,
   "id": "435ba5cf-cc4a-4694-b44f-d5d4ff653a1d",
   "metadata": {},
   "outputs": [
    {
     "name": "stdout",
     "output_type": "stream",
     "text": [
      "<class 'pandas.core.frame.DataFrame'>\n",
      "Index: 2864537 entries, 654 to 2864538\n",
      "Data columns (total 19 columns):\n",
      " #   Column                          Dtype         \n",
      "---  ------                          -----         \n",
      " 0   safra_entrada                   object        \n",
      " 1   dt_nascimento                   datetime64[ns]\n",
      " 2   vl_renda_percapta               float64       \n",
      " 3   vl_renda_familiar_bruta_mensal  float64       \n",
      " 4   nu_percentual_solicitado        float64       \n",
      " 5   sexo                            object        \n",
      " 6   ds_raca_cor                     object        \n",
      " 7   ds_estado_civil                 object        \n",
      " 8   sg_uf_curso                     object        \n",
      " 9   no_curso                        object        \n",
      " 10  tipo_ultimo_aditamento          object        \n",
      " 11  qtd_cursada_total               int32         \n",
      " 12  semestre_encerramento           object        \n",
      " 13  banco                           object        \n",
      " 14  vl_total_liberado               float64       \n",
      " 15  vl_saldo_devedor                float64       \n",
      " 16  nu_dias_atraso                  int32         \n",
      " 17  vl_saldo_devedor_atrasado       float64       \n",
      " 18  vl_nota_enem_considerada        float64       \n",
      "dtypes: datetime64[ns](1), float64(7), int32(2), object(9)\n",
      "memory usage: 415.2+ MB\n"
     ]
    }
   ],
   "source": [
    "df_top_cursos = df.loc[~df['no_curso'].isin(freq_curso[freq_curso > 100].index)]\n",
    "\n",
    "df_top_cursos.info()"
   ]
  }
 ],
 "metadata": {
  "kernelspec": {
   "display_name": "Python 3 (ipykernel)",
   "language": "python",
   "name": "python3"
  },
  "language_info": {
   "codemirror_mode": {
    "name": "ipython",
    "version": 3
   },
   "file_extension": ".py",
   "mimetype": "text/x-python",
   "name": "python",
   "nbconvert_exporter": "python",
   "pygments_lexer": "ipython3",
   "version": "3.10.9"
  }
 },
 "nbformat": 4,
 "nbformat_minor": 5
}
