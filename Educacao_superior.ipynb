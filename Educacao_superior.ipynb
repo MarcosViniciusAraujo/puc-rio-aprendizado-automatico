{
 "cells": [
  {
   "cell_type": "code",
   "execution_count": 1,
   "id": "d6eea56f-0141-4aa5-928f-0084e3f52d46",
   "metadata": {},
   "outputs": [],
   "source": [
    "import pandas as pd\n",
    "import seaborn as sns\n",
    "from matplotlib import pyplot as plt\n",
    "from datetime import date\n",
    "#from IPython.display import display"
   ]
  },
  {
   "cell_type": "code",
   "execution_count": 2,
   "id": "ace27d3e-796d-4906-b2db-e1c7532a2022",
   "metadata": {},
   "outputs": [],
   "source": [
    "sns.set_style(\"dark\")\n",
    "\n",
    "pd.set_option('display.float_format', lambda x: '%.3f' % x)\n",
    "\n",
    "pd.set_option('display.max_columns', 200)\n",
    "pd.set_option('display.max_rows', 100)\n",
    "pd.set_option('display.min_rows', 100)\n",
    "pd.set_option('display.expand_frame_repr', True)"
   ]
  },
  {
   "cell_type": "markdown",
   "id": "668bf70e-20cd-47a9-af2b-d78fa67ae3cb",
   "metadata": {},
   "source": [
    "# Educação de nível superior no Brasil - Contratos FIES\n",
    "\n",
    "### Integrantes do Grupo\n",
    "- Marcos Vinicius Araujo\n",
    "- Breno Marot\n",
    "- Gabriel Banaggia\n"
   ]
  },
  {
   "cell_type": "markdown",
   "id": "23d1018c-a714-4ba6-a4ca-d868201bef34",
   "metadata": {},
   "source": [
    "## Primeiros passos \n",
    "\n",
    "Este dataset se refere a participantes do programa de Financiamtnso de\n",
    "Instituições de Ensino Superior (FIES) no Brasil. Estão disponíveis tanto dados\n",
    "a respeito dos contratos celebrados entre os estudantes e o Governo Federal, \n",
    "como suas informações demográficas."
   ]
  },
  {
   "cell_type": "code",
   "execution_count": 3,
   "id": "4edad035-fbb4-429e-96db-b7908ac2b8f5",
   "metadata": {},
   "outputs": [
    {
     "data": {
      "text/html": [
       "<div>\n",
       "<style scoped>\n",
       "    .dataframe tbody tr th:only-of-type {\n",
       "        vertical-align: middle;\n",
       "    }\n",
       "\n",
       "    .dataframe tbody tr th {\n",
       "        vertical-align: top;\n",
       "    }\n",
       "\n",
       "    .dataframe thead th {\n",
       "        text-align: right;\n",
       "    }\n",
       "</style>\n",
       "<table border=\"1\" class=\"dataframe\">\n",
       "  <thead>\n",
       "    <tr style=\"text-align: right;\">\n",
       "      <th></th>\n",
       "      <th>safra_entrada</th>\n",
       "      <th>dt_nascimento</th>\n",
       "      <th>vl_renda_percapta</th>\n",
       "      <th>vl_renda_familiar_bruta_mensal</th>\n",
       "      <th>nu_percentual_solicitado</th>\n",
       "      <th>sexo</th>\n",
       "      <th>ds_raca_cor</th>\n",
       "      <th>ds_estado_civil</th>\n",
       "      <th>sg_uf_curso</th>\n",
       "      <th>no_municipio_curso</th>\n",
       "      <th>no_curso</th>\n",
       "      <th>co_curso</th>\n",
       "      <th>ultimo_aditamento</th>\n",
       "      <th>tipo_ultimo_aditamento</th>\n",
       "      <th>qtd_cursada_total</th>\n",
       "      <th>qt_semestre_financiamento</th>\n",
       "      <th>semestre_encerramento</th>\n",
       "      <th>banco</th>\n",
       "      <th>st_fase_contrato</th>\n",
       "      <th>vl_total_liberado</th>\n",
       "      <th>vl_saldo_devedor</th>\n",
       "      <th>nu_dias_atraso</th>\n",
       "      <th>vl_saldo_devedor_atrasado</th>\n",
       "      <th>vl_nota_enem_considerada</th>\n",
       "    </tr>\n",
       "    <tr>\n",
       "      <th>id_masked</th>\n",
       "      <th></th>\n",
       "      <th></th>\n",
       "      <th></th>\n",
       "      <th></th>\n",
       "      <th></th>\n",
       "      <th></th>\n",
       "      <th></th>\n",
       "      <th></th>\n",
       "      <th></th>\n",
       "      <th></th>\n",
       "      <th></th>\n",
       "      <th></th>\n",
       "      <th></th>\n",
       "      <th></th>\n",
       "      <th></th>\n",
       "      <th></th>\n",
       "      <th></th>\n",
       "      <th></th>\n",
       "      <th></th>\n",
       "      <th></th>\n",
       "      <th></th>\n",
       "      <th></th>\n",
       "      <th></th>\n",
       "      <th></th>\n",
       "    </tr>\n",
       "  </thead>\n",
       "  <tbody>\n",
       "    <tr>\n",
       "      <th>654</th>\n",
       "      <td>2013,5</td>\n",
       "      <td>1983-11-10</td>\n",
       "      <td>356,00</td>\n",
       "      <td>1068,00</td>\n",
       "      <td>100,00</td>\n",
       "      <td>F</td>\n",
       "      <td>BRANCO</td>\n",
       "      <td>DIVORCIADO</td>\n",
       "      <td>MS</td>\n",
       "      <td>DOURADOS</td>\n",
       "      <td>ADMINISTRACAO</td>\n",
       "      <td>54656.000</td>\n",
       "      <td>20140.000</td>\n",
       "      <td>Encerramento</td>\n",
       "      <td>2.000</td>\n",
       "      <td>2.000</td>\n",
       "      <td>12014.000</td>\n",
       "      <td>NaN</td>\n",
       "      <td>NaN</td>\n",
       "      <td>NaN</td>\n",
       "      <td>NaN</td>\n",
       "      <td>NaN</td>\n",
       "      <td>NaN</td>\n",
       "      <td>NaN</td>\n",
       "    </tr>\n",
       "    <tr>\n",
       "      <th>968</th>\n",
       "      <td>2014,0</td>\n",
       "      <td>1983-07-01</td>\n",
       "      <td>1916,85</td>\n",
       "      <td>1916,85</td>\n",
       "      <td>100,00</td>\n",
       "      <td>F</td>\n",
       "      <td>PARDO</td>\n",
       "      <td>CASADO</td>\n",
       "      <td>MA</td>\n",
       "      <td>SAO LUIS</td>\n",
       "      <td>ENFERMAGEM</td>\n",
       "      <td>96713.000</td>\n",
       "      <td>201500.000</td>\n",
       "      <td>Encerramento</td>\n",
       "      <td>2.000</td>\n",
       "      <td>2.000</td>\n",
       "      <td>22015.000</td>\n",
       "      <td>NaN</td>\n",
       "      <td>NaN</td>\n",
       "      <td>NaN</td>\n",
       "      <td>NaN</td>\n",
       "      <td>NaN</td>\n",
       "      <td>NaN</td>\n",
       "      <td>NaN</td>\n",
       "    </tr>\n",
       "    <tr>\n",
       "      <th>1067</th>\n",
       "      <td>2013,5</td>\n",
       "      <td>1989-12-07</td>\n",
       "      <td>2700,00</td>\n",
       "      <td>2700,00</td>\n",
       "      <td>100,00</td>\n",
       "      <td>F</td>\n",
       "      <td>NEGRO</td>\n",
       "      <td>SOLTEIRO</td>\n",
       "      <td>RO</td>\n",
       "      <td>CACOAL</td>\n",
       "      <td>DIREITO</td>\n",
       "      <td>49820.000</td>\n",
       "      <td>201700.000</td>\n",
       "      <td>Renovacao</td>\n",
       "      <td>10.000</td>\n",
       "      <td>10.000</td>\n",
       "      <td>NaN</td>\n",
       "      <td>BB</td>\n",
       "      <td>A</td>\n",
       "      <td>57902,67</td>\n",
       "      <td>55726,23</td>\n",
       "      <td>0.000</td>\n",
       "      <td>0,00</td>\n",
       "      <td>NaN</td>\n",
       "    </tr>\n",
       "    <tr>\n",
       "      <th>2214</th>\n",
       "      <td>2012,5</td>\n",
       "      <td>1979-10-08</td>\n",
       "      <td>272,99</td>\n",
       "      <td>818,98</td>\n",
       "      <td>100,00</td>\n",
       "      <td>F</td>\n",
       "      <td>PARDO</td>\n",
       "      <td>SOLTEIRO</td>\n",
       "      <td>SE</td>\n",
       "      <td>ARACAJU</td>\n",
       "      <td>ENFERMAGEM</td>\n",
       "      <td>118882.000</td>\n",
       "      <td>201600.000</td>\n",
       "      <td>Renovacao</td>\n",
       "      <td>10.000</td>\n",
       "      <td>10.000</td>\n",
       "      <td>NaN</td>\n",
       "      <td>CX</td>\n",
       "      <td>A</td>\n",
       "      <td>56159,08</td>\n",
       "      <td>64236,79</td>\n",
       "      <td>1025.000</td>\n",
       "      <td>14170,86</td>\n",
       "      <td>NaN</td>\n",
       "    </tr>\n",
       "    <tr>\n",
       "      <th>2298</th>\n",
       "      <td>2013,0</td>\n",
       "      <td>1989-04-09</td>\n",
       "      <td>1200,00</td>\n",
       "      <td>1200,00</td>\n",
       "      <td>100,00</td>\n",
       "      <td>F</td>\n",
       "      <td>PARDO</td>\n",
       "      <td>CASADO</td>\n",
       "      <td>RJ</td>\n",
       "      <td>CABO FRIO</td>\n",
       "      <td>FISIOTERAPIA</td>\n",
       "      <td>82838.000</td>\n",
       "      <td>20150.000</td>\n",
       "      <td>Encerramento</td>\n",
       "      <td>3.000</td>\n",
       "      <td>3.000</td>\n",
       "      <td>12015.000</td>\n",
       "      <td>NaN</td>\n",
       "      <td>NaN</td>\n",
       "      <td>NaN</td>\n",
       "      <td>NaN</td>\n",
       "      <td>NaN</td>\n",
       "      <td>NaN</td>\n",
       "      <td>NaN</td>\n",
       "    </tr>\n",
       "  </tbody>\n",
       "</table>\n",
       "</div>"
      ],
      "text/plain": [
       "          safra_entrada dt_nascimento vl_renda_percapta  \\\n",
       "id_masked                                                 \n",
       "654              2013,5    1983-11-10            356,00   \n",
       "968              2014,0    1983-07-01           1916,85   \n",
       "1067             2013,5    1989-12-07           2700,00   \n",
       "2214             2012,5    1979-10-08            272,99   \n",
       "2298             2013,0    1989-04-09           1200,00   \n",
       "\n",
       "          vl_renda_familiar_bruta_mensal nu_percentual_solicitado sexo  \\\n",
       "id_masked                                                                \n",
       "654                              1068,00                   100,00    F   \n",
       "968                              1916,85                   100,00    F   \n",
       "1067                             2700,00                   100,00    F   \n",
       "2214                              818,98                   100,00    F   \n",
       "2298                             1200,00                   100,00    F   \n",
       "\n",
       "          ds_raca_cor ds_estado_civil sg_uf_curso no_municipio_curso  \\\n",
       "id_masked                                                              \n",
       "654            BRANCO      DIVORCIADO          MS           DOURADOS   \n",
       "968             PARDO          CASADO          MA           SAO LUIS   \n",
       "1067            NEGRO        SOLTEIRO          RO             CACOAL   \n",
       "2214            PARDO        SOLTEIRO          SE            ARACAJU   \n",
       "2298            PARDO          CASADO          RJ          CABO FRIO   \n",
       "\n",
       "                no_curso   co_curso  ultimo_aditamento tipo_ultimo_aditamento  \\\n",
       "id_masked                                                                       \n",
       "654        ADMINISTRACAO  54656.000          20140.000           Encerramento   \n",
       "968           ENFERMAGEM  96713.000         201500.000           Encerramento   \n",
       "1067             DIREITO  49820.000         201700.000              Renovacao   \n",
       "2214          ENFERMAGEM 118882.000         201600.000              Renovacao   \n",
       "2298        FISIOTERAPIA  82838.000          20150.000           Encerramento   \n",
       "\n",
       "           qtd_cursada_total  qt_semestre_financiamento  \\\n",
       "id_masked                                                 \n",
       "654                    2.000                      2.000   \n",
       "968                    2.000                      2.000   \n",
       "1067                  10.000                     10.000   \n",
       "2214                  10.000                     10.000   \n",
       "2298                   3.000                      3.000   \n",
       "\n",
       "           semestre_encerramento banco st_fase_contrato vl_total_liberado  \\\n",
       "id_masked                                                                   \n",
       "654                    12014.000   NaN              NaN               NaN   \n",
       "968                    22015.000   NaN              NaN               NaN   \n",
       "1067                         NaN    BB                A          57902,67   \n",
       "2214                         NaN    CX                A          56159,08   \n",
       "2298                   12015.000   NaN              NaN               NaN   \n",
       "\n",
       "          vl_saldo_devedor  nu_dias_atraso vl_saldo_devedor_atrasado  \\\n",
       "id_masked                                                              \n",
       "654                    NaN             NaN                       NaN   \n",
       "968                    NaN             NaN                       NaN   \n",
       "1067              55726,23           0.000                      0,00   \n",
       "2214              64236,79        1025.000                  14170,86   \n",
       "2298                   NaN             NaN                       NaN   \n",
       "\n",
       "           vl_nota_enem_considerada  \n",
       "id_masked                            \n",
       "654                             NaN  \n",
       "968                             NaN  \n",
       "1067                            NaN  \n",
       "2214                            NaN  \n",
       "2298                            NaN  "
      ]
     },
     "execution_count": 3,
     "metadata": {},
     "output_type": "execute_result"
    }
   ],
   "source": [
    "# Lendo o dataset\n",
    "\n",
    "df = pd.read_csv('.\\\\data\\\\education.csv', sep=';', index_col='id_masked')\n",
    "df.head()"
   ]
  },
  {
   "cell_type": "code",
   "execution_count": 4,
   "id": "df7dc1ce-2932-4722-93d4-f389b295b849",
   "metadata": {},
   "outputs": [
    {
     "name": "stdout",
     "output_type": "stream",
     "text": [
      "<class 'pandas.core.frame.DataFrame'>\n",
      "Index: 2864538 entries, 654 to 2864538\n",
      "Data columns (total 24 columns):\n",
      " #   Column                          Dtype  \n",
      "---  ------                          -----  \n",
      " 0   safra_entrada                   object \n",
      " 1   dt_nascimento                   object \n",
      " 2   vl_renda_percapta               object \n",
      " 3   vl_renda_familiar_bruta_mensal  object \n",
      " 4   nu_percentual_solicitado        object \n",
      " 5   sexo                            object \n",
      " 6   ds_raca_cor                     object \n",
      " 7   ds_estado_civil                 object \n",
      " 8   sg_uf_curso                     object \n",
      " 9   no_municipio_curso              object \n",
      " 10  no_curso                        object \n",
      " 11  co_curso                        float64\n",
      " 12  ultimo_aditamento               float64\n",
      " 13  tipo_ultimo_aditamento          object \n",
      " 14  qtd_cursada_total               float64\n",
      " 15  qt_semestre_financiamento       float64\n",
      " 16  semestre_encerramento           float64\n",
      " 17  banco                           object \n",
      " 18  st_fase_contrato                object \n",
      " 19  vl_total_liberado               object \n",
      " 20  vl_saldo_devedor                object \n",
      " 21  nu_dias_atraso                  float64\n",
      " 22  vl_saldo_devedor_atrasado       object \n",
      " 23  vl_nota_enem_considerada        float64\n",
      "dtypes: float64(7), object(17)\n",
      "memory usage: 546.4+ MB\n"
     ]
    }
   ],
   "source": [
    "df.info()"
   ]
  },
  {
   "cell_type": "code",
   "execution_count": 5,
   "id": "3e8065a1-7406-4128-b803-4e4b2e524d04",
   "metadata": {},
   "outputs": [],
   "source": [
    "# Removendo colunas menos significativas\n",
    "df.drop(\n",
    "    ['co_curso',\n",
    "    'ultimo_aditamento',\n",
    "    'no_municipio_curso',], \n",
    "    axis=1, \n",
    "    inplace=True\n",
    ")"
   ]
  },
  {
   "cell_type": "code",
   "execution_count": 6,
   "id": "b0f98844",
   "metadata": {},
   "outputs": [],
   "source": [
    "# Renomeando colunas para ter nomes mais informativos\n",
    "df.rename(\n",
    "    columns={\n",
    "        'vl_renda_percapta': 'renda_per_capita',\n",
    "        'vl_renda_familiar_bruta_mensal': 'renda_familiar',\n",
    "        'nu_percentual_solicitado': 'percentual_solicitado',\n",
    "        'ds_raca_cor': 'cor_raca',\n",
    "        'ds_estado_civil': 'estado_civil',\n",
    "        'sg_uf_curso': 'uf_curso',\n",
    "        'no_curso': 'curso',\n",
    "        'qtd_cursada_total': 'qtd_semestres_cursados',\n",
    "        'qt_semestre_financiamento': 'qtd_semestres_financiados',\n",
    "        'nu_dias_atraso': 'qtd_dias_atraso'        \n",
    "    },\n",
    "    inplace=True\n",
    ")"
   ]
  },
  {
   "cell_type": "code",
   "execution_count": 7,
   "id": "b735b33f-88e8-43a0-b119-9182efbdd197",
   "metadata": {},
   "outputs": [],
   "source": [
    "# %timeit df"
   ]
  },
  {
   "cell_type": "code",
   "execution_count": 8,
   "id": "5318b5af",
   "metadata": {},
   "outputs": [
    {
     "data": {
      "text/html": [
       "<div>\n",
       "<style scoped>\n",
       "    .dataframe tbody tr th:only-of-type {\n",
       "        vertical-align: middle;\n",
       "    }\n",
       "\n",
       "    .dataframe tbody tr th {\n",
       "        vertical-align: top;\n",
       "    }\n",
       "\n",
       "    .dataframe thead th {\n",
       "        text-align: right;\n",
       "    }\n",
       "</style>\n",
       "<table border=\"1\" class=\"dataframe\">\n",
       "  <thead>\n",
       "    <tr style=\"text-align: right;\">\n",
       "      <th></th>\n",
       "      <th>qtd_semestres_cursados</th>\n",
       "      <th>qtd_semestres_financiados</th>\n",
       "      <th>semestre_encerramento</th>\n",
       "      <th>qtd_dias_atraso</th>\n",
       "      <th>vl_nota_enem_considerada</th>\n",
       "    </tr>\n",
       "  </thead>\n",
       "  <tbody>\n",
       "    <tr>\n",
       "      <th>count</th>\n",
       "      <td>2864537.000</td>\n",
       "      <td>2864532.000</td>\n",
       "      <td>207621.000</td>\n",
       "      <td>2749362.000</td>\n",
       "      <td>925210.000</td>\n",
       "    </tr>\n",
       "    <tr>\n",
       "      <th>mean</th>\n",
       "      <td>6.343</td>\n",
       "      <td>8.191</td>\n",
       "      <td>16528.037</td>\n",
       "      <td>617.194</td>\n",
       "      <td>536.258</td>\n",
       "    </tr>\n",
       "    <tr>\n",
       "      <th>std</th>\n",
       "      <td>3.575</td>\n",
       "      <td>2.254</td>\n",
       "      <td>4976.018</td>\n",
       "      <td>863.347</td>\n",
       "      <td>295.535</td>\n",
       "    </tr>\n",
       "    <tr>\n",
       "      <th>min</th>\n",
       "      <td>1.000</td>\n",
       "      <td>0.000</td>\n",
       "      <td>12010.000</td>\n",
       "      <td>0.000</td>\n",
       "      <td>0.000</td>\n",
       "    </tr>\n",
       "    <tr>\n",
       "      <th>25%</th>\n",
       "      <td>3.000</td>\n",
       "      <td>7.000</td>\n",
       "      <td>12015.000</td>\n",
       "      <td>0.000</td>\n",
       "      <td>497.100</td>\n",
       "    </tr>\n",
       "    <tr>\n",
       "      <th>50%</th>\n",
       "      <td>7.000</td>\n",
       "      <td>8.000</td>\n",
       "      <td>12018.000</td>\n",
       "      <td>112.000</td>\n",
       "      <td>533.900</td>\n",
       "    </tr>\n",
       "    <tr>\n",
       "      <th>75%</th>\n",
       "      <td>10.000</td>\n",
       "      <td>10.000</td>\n",
       "      <td>22014.000</td>\n",
       "      <td>1112.000</td>\n",
       "      <td>573.460</td>\n",
       "    </tr>\n",
       "    <tr>\n",
       "      <th>max</th>\n",
       "      <td>22.000</td>\n",
       "      <td>26.000</td>\n",
       "      <td>22021.000</td>\n",
       "      <td>7352.000</td>\n",
       "      <td>32901.000</td>\n",
       "    </tr>\n",
       "  </tbody>\n",
       "</table>\n",
       "</div>"
      ],
      "text/plain": [
       "       qtd_semestres_cursados  qtd_semestres_financiados  \\\n",
       "count             2864537.000                2864532.000   \n",
       "mean                    6.343                      8.191   \n",
       "std                     3.575                      2.254   \n",
       "min                     1.000                      0.000   \n",
       "25%                     3.000                      7.000   \n",
       "50%                     7.000                      8.000   \n",
       "75%                    10.000                     10.000   \n",
       "max                    22.000                     26.000   \n",
       "\n",
       "       semestre_encerramento  qtd_dias_atraso  vl_nota_enem_considerada  \n",
       "count             207621.000      2749362.000                925210.000  \n",
       "mean               16528.037          617.194                   536.258  \n",
       "std                 4976.018          863.347                   295.535  \n",
       "min                12010.000            0.000                     0.000  \n",
       "25%                12015.000            0.000                   497.100  \n",
       "50%                12018.000          112.000                   533.900  \n",
       "75%                22014.000         1112.000                   573.460  \n",
       "max                22021.000         7352.000                 32901.000  "
      ]
     },
     "execution_count": 8,
     "metadata": {},
     "output_type": "execute_result"
    }
   ],
   "source": [
    "df.describe()"
   ]
  },
  {
   "cell_type": "markdown",
   "id": "09f9790a-bf06-4c48-ad94-cfd52d5f54ce",
   "metadata": {},
   "source": [
    "## Performance do dataset\n",
    "\n",
    "Um passo importante para se obter um bom desempenho é a alteração para a \n",
    "tipagem correta. Com ela, podemos diminuir o tempo de execução das operações.\n",
    "\n",
    "[Documentação do pandas sobre performance](https://pandas.pydata.org/docs/user_guide/enhancingperf.html)"
   ]
  },
  {
   "cell_type": "code",
   "execution_count": 9,
   "id": "72287d8f",
   "metadata": {},
   "outputs": [],
   "source": [
    "# A execução desta célula ocasiona um erro que será tratado logo a seguir.\n",
    "# Ela foi mantida em sua forma original para se evidenciar o processo\n",
    "# de tratamento que os dados receberam.\n",
    "\n",
    "# Operações para aprimoramento da performance\n",
    "# df['dt_nascimento'] = pd.to_datetime(df['dt_nascimento'], yearfirst=True, format=\"%Y-%m-%d\")\n",
    "# df['renda_per_capita'] = df['renda_per_capita'].apply(lambda x : float(str(x).replace(',', '.')))\n",
    "# df['renda_familiar'] = df['renda_familiar'].apply(lambda x : float(str(x).replace(',', '.')))\n",
    "# df['percentual_solicitado'] = df['percentual_solicitado'].apply(lambda x : float(str(x).replace(',', '.')))\n",
    "# df['vl_total_liberado'] = df['vl_total_liberado'].apply(lambda x : float(str(x).replace(',', '.')))\n",
    "# df['vl_saldo_devedor'] = df['vl_saldo_devedor'].apply(lambda x : float(str(x).replace(',', '.')))\n",
    "# df['qtd_dias_atraso'] = df['qtd_dias_atraso'].fillna(0).astype(int)\n",
    "# df['vl_saldo_devedor_atrasado'] = df['vl_saldo_devedor_atrasado'].apply(lambda x : float(str(x).replace(',', '.')))\n",
    "# df['qtd_semestres_cursados'] = df['qtd_semestres_cursados'].fillna(0).astype(int)\n",
    "# df['qtd_semestres_financiados'] = df['qtd_semestres_financiados'].fillna(0).astype(int)\n",
    "# df['semestre_encerramento'] = df['semestre_encerramento'].astype(str)"
   ]
  },
  {
   "cell_type": "code",
   "execution_count": 10,
   "id": "b37fe23a",
   "metadata": {},
   "outputs": [
    {
     "data": {
      "text/plain": [
       "'0099-01-26'"
      ]
     },
     "execution_count": 10,
     "metadata": {},
     "output_type": "execute_result"
    }
   ],
   "source": [
    "# Investigação do erro ocasionado pela célula anterior.\n",
    "\n",
    "# A partir da lista de índices, acessa o que está na posição com datetime\n",
    "# problemática indicada e retorna seu valor.\n",
    "df.loc[df.index[2516155], 'dt_nascimento']"
   ]
  },
  {
   "cell_type": "code",
   "execution_count": 11,
   "id": "fde73489",
   "metadata": {},
   "outputs": [
    {
     "data": {
      "text/plain": [
       "dt_nascimento\n",
       "1994    225877\n",
       "1995    217999\n",
       "1993    210572\n",
       "1992    190171\n",
       "1996    185661\n",
       "1991    171624\n",
       "1990    146060\n",
       "1997    133202\n",
       "1989    131830\n",
       "1988    117067\n",
       "1987     99580\n",
       "1998     92961\n",
       "1986     88168\n",
       "1985     78468\n",
       "1984     68538\n",
       "1999     68436\n",
       "1983     63460\n",
       "1982     59540\n",
       "1981     54036\n",
       "2000     46050\n",
       "1980     45667\n",
       "1979     40418\n",
       "1978     34973\n",
       "2001     32492\n",
       "1977     31176\n",
       "1976     26840\n",
       "1975     23159\n",
       "1974     20386\n",
       "2002     20118\n",
       "1973     17511\n",
       "1972     15545\n",
       "1971     13810\n",
       "1970     11343\n",
       "2003     10297\n",
       "1969     10041\n",
       "1968      8821\n",
       "1967      7598\n",
       "1966      6621\n",
       "1965      5934\n",
       "1964      5121\n",
       "1963      4458\n",
       "2004      4036\n",
       "1962      3530\n",
       "1961      2941\n",
       "1960      2314\n",
       "1959      2055\n",
       "1958      1664\n",
       "1957      1344\n",
       "1956      1064\n",
       "1955       873\n",
       "1954       680\n",
       "1953       525\n",
       "1952       401\n",
       "1951       296\n",
       "1950       240\n",
       "1949       189\n",
       "1948       148\n",
       "2005       124\n",
       "1947       107\n",
       "1946        92\n",
       "1944        62\n",
       "1945        52\n",
       "1943        31\n",
       "1942        29\n",
       "1941        25\n",
       "1939        14\n",
       "1936        11\n",
       "1940        11\n",
       "2006         9\n",
       "1938         8\n",
       "2007         6\n",
       "1937         5\n",
       "2008         4\n",
       "1934         3\n",
       "1933         2\n",
       "2011         2\n",
       "1928         2\n",
       "1930         1\n",
       "1926         1\n",
       "1932         1\n",
       "1931         1\n",
       "2009         1\n",
       "1900         1\n",
       "nan          1\n",
       "1922         1\n",
       "0099         1\n",
       "1897         1\n",
       "Name: count, dtype: int64"
      ]
     },
     "execution_count": 11,
     "metadata": {},
     "output_type": "execute_result"
    }
   ],
   "source": [
    "# Investigando anos de nascimento para realizar correções possíveis\n",
    "df.dt_nascimento.apply(lambda x: str(x)[:4]).value_counts()"
   ]
  },
  {
   "cell_type": "code",
   "execution_count": 12,
   "id": "6c621d0a",
   "metadata": {},
   "outputs": [
    {
     "data": {
      "text/plain": [
       "'1999-01-26'"
      ]
     },
     "execution_count": 12,
     "metadata": {},
     "output_type": "execute_result"
    }
   ],
   "source": [
    "# Corrige a linha problemática\n",
    "df.loc[df.index[2516155], 'dt_nascimento'] = df.loc[df.index[2516155], 'dt_nascimento'].replace(\"00\", \"19\")\n",
    "df.loc[df.index[2516155], 'dt_nascimento']"
   ]
  },
  {
   "cell_type": "code",
   "execution_count": 13,
   "id": "0b825d2c",
   "metadata": {},
   "outputs": [
    {
     "data": {
      "text/plain": [
       "safra_entrada                      0\n",
       "dt_nascimento                      1\n",
       "renda_per_capita                   0\n",
       "renda_familiar                     0\n",
       "percentual_solicitado              5\n",
       "sexo                               1\n",
       "cor_raca                           0\n",
       "estado_civil                    1180\n",
       "uf_curso                           2\n",
       "curso                             70\n",
       "tipo_ultimo_aditamento             1\n",
       "qtd_semestres_cursados             1\n",
       "qtd_semestres_financiados          6\n",
       "semestre_encerramento        2656917\n",
       "banco                         115176\n",
       "st_fase_contrato              115176\n",
       "vl_total_liberado             115176\n",
       "vl_saldo_devedor              115176\n",
       "qtd_dias_atraso               115176\n",
       "vl_saldo_devedor_atrasado     115176\n",
       "vl_nota_enem_considerada     1939328\n",
       "dtype: int64"
      ]
     },
     "execution_count": 13,
     "metadata": {},
     "output_type": "execute_result"
    }
   ],
   "source": [
    "# Investiga quantidade de dados ausentes em cada atributo\n",
    "df.isna().sum()"
   ]
  },
  {
   "cell_type": "code",
   "execution_count": 14,
   "id": "a2169970",
   "metadata": {},
   "outputs": [],
   "source": [
    "# Removendo colunas menos significativas\n",
    "df.drop(\n",
    "    ['semestre_encerramento'], \n",
    "    axis=1, \n",
    "    inplace=True\n",
    ")"
   ]
  },
  {
   "cell_type": "code",
   "execution_count": 15,
   "id": "26287136",
   "metadata": {},
   "outputs": [],
   "source": [
    "# Removendo linhas que possuem valores ausentes em determinadas colunas\n",
    "df = df[df['dt_nascimento'].notna()]\n",
    "df = df[df['percentual_solicitado'].notna()]\n",
    "df = df[df['sexo'].notna()]\n",
    "df = df[df['estado_civil'].notna()]\n",
    "df = df[df['uf_curso'].notna()]\n",
    "df = df[df['curso'].notna()]\n",
    "df = df[df['tipo_ultimo_aditamento'].notna()]\n",
    "df = df[df['qtd_semestres_cursados'].notna()]\n",
    "df = df[df['qtd_semestres_financiados'].notna()]"
   ]
  },
  {
   "cell_type": "code",
   "execution_count": 16,
   "id": "fe3eda23",
   "metadata": {},
   "outputs": [
    {
     "data": {
      "text/plain": [
       "safra_entrada                      0\n",
       "dt_nascimento                      0\n",
       "renda_per_capita                   0\n",
       "renda_familiar                     0\n",
       "percentual_solicitado              0\n",
       "sexo                               0\n",
       "cor_raca                           0\n",
       "estado_civil                       0\n",
       "uf_curso                           0\n",
       "curso                              0\n",
       "tipo_ultimo_aditamento             0\n",
       "qtd_semestres_cursados             0\n",
       "qtd_semestres_financiados          0\n",
       "banco                         115156\n",
       "st_fase_contrato              115156\n",
       "vl_total_liberado             115156\n",
       "vl_saldo_devedor              115156\n",
       "qtd_dias_atraso               115156\n",
       "vl_saldo_devedor_atrasado     115156\n",
       "vl_nota_enem_considerada     1938632\n",
       "dtype: int64"
      ]
     },
     "execution_count": 16,
     "metadata": {},
     "output_type": "execute_result"
    }
   ],
   "source": [
    "# Conferindo atributos que ainda irão permanecer com dados ausentes\n",
    "df.isna().sum()"
   ]
  },
  {
   "cell_type": "code",
   "execution_count": 17,
   "id": "0761bc98-effa-44d5-aa2a-8ae40367c5a6",
   "metadata": {},
   "outputs": [],
   "source": [
    "# Alterando tipos dos dados para ajudar no desempenho\n",
    "df['dt_nascimento'] = pd.to_datetime(df['dt_nascimento'], yearfirst=True, format=\"%Y-%m-%d\")\n",
    "df['renda_per_capita'] = df['renda_per_capita'].apply(lambda x : float(str(x).replace(',', '.')))\n",
    "df['renda_familiar'] = df['renda_familiar'].apply(lambda x : float(str(x).replace(',', '.')))\n",
    "df['percentual_solicitado'] = df['percentual_solicitado'].apply(lambda x : float(str(x).replace(',', '.')))\n",
    "df['vl_total_liberado'] = df['vl_total_liberado'].apply(lambda x : float(str(x).replace(',', '.')))\n",
    "df['vl_saldo_devedor'] = df['vl_saldo_devedor'].apply(lambda x : float(str(x).replace(',', '.')))\n",
    "df['qtd_dias_atraso'] = df['qtd_dias_atraso'].fillna(0).astype(int)\n",
    "df['vl_saldo_devedor_atrasado'] = df['vl_saldo_devedor_atrasado'].apply(lambda x : float(str(x).replace(',', '.')))\n",
    "df['qtd_semestres_cursados'] = df['qtd_semestres_cursados'].fillna(0).astype(int)\n",
    "df['qtd_semestres_financiados'] = df['qtd_semestres_financiados'].fillna(0).astype(int)"
   ]
  },
  {
   "cell_type": "code",
   "execution_count": 18,
   "id": "71fb767c-281b-4617-aebd-11c8c7e5b408",
   "metadata": {},
   "outputs": [
    {
     "name": "stdout",
     "output_type": "stream",
     "text": [
      "<class 'pandas.core.frame.DataFrame'>\n",
      "Index: 2863276 entries, 654 to 2864538\n",
      "Data columns (total 20 columns):\n",
      " #   Column                     Dtype         \n",
      "---  ------                     -----         \n",
      " 0   safra_entrada              object        \n",
      " 1   dt_nascimento              datetime64[ns]\n",
      " 2   renda_per_capita           float64       \n",
      " 3   renda_familiar             float64       \n",
      " 4   percentual_solicitado      float64       \n",
      " 5   sexo                       object        \n",
      " 6   cor_raca                   object        \n",
      " 7   estado_civil               object        \n",
      " 8   uf_curso                   object        \n",
      " 9   curso                      object        \n",
      " 10  tipo_ultimo_aditamento     object        \n",
      " 11  qtd_semestres_cursados     int32         \n",
      " 12  qtd_semestres_financiados  int32         \n",
      " 13  banco                      object        \n",
      " 14  st_fase_contrato           object        \n",
      " 15  vl_total_liberado          float64       \n",
      " 16  vl_saldo_devedor           float64       \n",
      " 17  qtd_dias_atraso            int32         \n",
      " 18  vl_saldo_devedor_atrasado  float64       \n",
      " 19  vl_nota_enem_considerada   float64       \n",
      "dtypes: datetime64[ns](1), float64(7), int32(3), object(9)\n",
      "memory usage: 426.0+ MB\n"
     ]
    }
   ],
   "source": [
    "df.info()"
   ]
  },
  {
   "cell_type": "code",
   "execution_count": 19,
   "id": "fd0cc66f-2104-404f-b9c6-3c17ca3980e7",
   "metadata": {},
   "outputs": [],
   "source": [
    "# %timeit df"
   ]
  },
  {
   "cell_type": "code",
   "execution_count": 20,
   "id": "f4290a32",
   "metadata": {},
   "outputs": [
    {
     "data": {
      "text/html": [
       "<div>\n",
       "<style scoped>\n",
       "    .dataframe tbody tr th:only-of-type {\n",
       "        vertical-align: middle;\n",
       "    }\n",
       "\n",
       "    .dataframe tbody tr th {\n",
       "        vertical-align: top;\n",
       "    }\n",
       "\n",
       "    .dataframe thead th {\n",
       "        text-align: right;\n",
       "    }\n",
       "</style>\n",
       "<table border=\"1\" class=\"dataframe\">\n",
       "  <thead>\n",
       "    <tr style=\"text-align: right;\">\n",
       "      <th></th>\n",
       "      <th>dt_nascimento</th>\n",
       "      <th>renda_per_capita</th>\n",
       "      <th>renda_familiar</th>\n",
       "      <th>percentual_solicitado</th>\n",
       "      <th>qtd_semestres_cursados</th>\n",
       "      <th>qtd_semestres_financiados</th>\n",
       "      <th>vl_total_liberado</th>\n",
       "      <th>vl_saldo_devedor</th>\n",
       "      <th>qtd_dias_atraso</th>\n",
       "      <th>vl_saldo_devedor_atrasado</th>\n",
       "      <th>vl_nota_enem_considerada</th>\n",
       "    </tr>\n",
       "  </thead>\n",
       "  <tbody>\n",
       "    <tr>\n",
       "      <th>count</th>\n",
       "      <td>2863276</td>\n",
       "      <td>2863276.000</td>\n",
       "      <td>2863276.000</td>\n",
       "      <td>2863276.000</td>\n",
       "      <td>2863276.000</td>\n",
       "      <td>2863276.000</td>\n",
       "      <td>2748120.000</td>\n",
       "      <td>2748120.000</td>\n",
       "      <td>2863276.000</td>\n",
       "      <td>2748120.000</td>\n",
       "      <td>924644.000</td>\n",
       "    </tr>\n",
       "    <tr>\n",
       "      <th>mean</th>\n",
       "      <td>1990-02-26 01:17:30.394583168</td>\n",
       "      <td>822.680</td>\n",
       "      <td>2180.552</td>\n",
       "      <td>89.584</td>\n",
       "      <td>6.342</td>\n",
       "      <td>8.190</td>\n",
       "      <td>40620.398</td>\n",
       "      <td>41950.842</td>\n",
       "      <td>592.438</td>\n",
       "      <td>3276.700</td>\n",
       "      <td>536.252</td>\n",
       "    </tr>\n",
       "    <tr>\n",
       "      <th>min</th>\n",
       "      <td>1897-01-01 00:00:00</td>\n",
       "      <td>0.000</td>\n",
       "      <td>0.000</td>\n",
       "      <td>4.690</td>\n",
       "      <td>1.000</td>\n",
       "      <td>0.000</td>\n",
       "      <td>0.000</td>\n",
       "      <td>0.000</td>\n",
       "      <td>0.000</td>\n",
       "      <td>0.000</td>\n",
       "      <td>0.000</td>\n",
       "    </tr>\n",
       "    <tr>\n",
       "      <th>25%</th>\n",
       "      <td>1986-07-02 00:00:00</td>\n",
       "      <td>450.000</td>\n",
       "      <td>1000.000</td>\n",
       "      <td>81.630</td>\n",
       "      <td>3.000</td>\n",
       "      <td>7.000</td>\n",
       "      <td>13387.100</td>\n",
       "      <td>10054.118</td>\n",
       "      <td>0.000</td>\n",
       "      <td>0.000</td>\n",
       "      <td>497.100</td>\n",
       "    </tr>\n",
       "    <tr>\n",
       "      <th>50%</th>\n",
       "      <td>1992-01-12 00:00:00</td>\n",
       "      <td>692.770</td>\n",
       "      <td>1600.000</td>\n",
       "      <td>100.000</td>\n",
       "      <td>7.000</td>\n",
       "      <td>8.000</td>\n",
       "      <td>28494.665</td>\n",
       "      <td>27221.450</td>\n",
       "      <td>77.000</td>\n",
       "      <td>565.455</td>\n",
       "      <td>533.880</td>\n",
       "    </tr>\n",
       "    <tr>\n",
       "      <th>75%</th>\n",
       "      <td>1995-05-31 00:00:00</td>\n",
       "      <td>1000.000</td>\n",
       "      <td>2700.000</td>\n",
       "      <td>100.000</td>\n",
       "      <td>10.000</td>\n",
       "      <td>10.000</td>\n",
       "      <td>52002.000</td>\n",
       "      <td>55884.080</td>\n",
       "      <td>1030.000</td>\n",
       "      <td>4498.653</td>\n",
       "      <td>573.460</td>\n",
       "    </tr>\n",
       "    <tr>\n",
       "      <th>max</th>\n",
       "      <td>2011-10-13 00:00:00</td>\n",
       "      <td>23151.950</td>\n",
       "      <td>89000.000</td>\n",
       "      <td>100.000</td>\n",
       "      <td>22.000</td>\n",
       "      <td>26.000</td>\n",
       "      <td>1456610.000</td>\n",
       "      <td>947228.500</td>\n",
       "      <td>7352.000</td>\n",
       "      <td>390110.200</td>\n",
       "      <td>32901.000</td>\n",
       "    </tr>\n",
       "    <tr>\n",
       "      <th>std</th>\n",
       "      <td>NaN</td>\n",
       "      <td>609.438</td>\n",
       "      <td>1871.726</td>\n",
       "      <td>16.208</td>\n",
       "      <td>3.575</td>\n",
       "      <td>2.254</td>\n",
       "      <td>49846.286</td>\n",
       "      <td>56631.942</td>\n",
       "      <td>854.521</td>\n",
       "      <td>5484.243</td>\n",
       "      <td>295.614</td>\n",
       "    </tr>\n",
       "  </tbody>\n",
       "</table>\n",
       "</div>"
      ],
      "text/plain": [
       "                       dt_nascimento  renda_per_capita  renda_familiar  \\\n",
       "count                        2863276       2863276.000     2863276.000   \n",
       "mean   1990-02-26 01:17:30.394583168           822.680        2180.552   \n",
       "min              1897-01-01 00:00:00             0.000           0.000   \n",
       "25%              1986-07-02 00:00:00           450.000        1000.000   \n",
       "50%              1992-01-12 00:00:00           692.770        1600.000   \n",
       "75%              1995-05-31 00:00:00          1000.000        2700.000   \n",
       "max              2011-10-13 00:00:00         23151.950       89000.000   \n",
       "std                              NaN           609.438        1871.726   \n",
       "\n",
       "       percentual_solicitado  qtd_semestres_cursados  \\\n",
       "count            2863276.000             2863276.000   \n",
       "mean                  89.584                   6.342   \n",
       "min                    4.690                   1.000   \n",
       "25%                   81.630                   3.000   \n",
       "50%                  100.000                   7.000   \n",
       "75%                  100.000                  10.000   \n",
       "max                  100.000                  22.000   \n",
       "std                   16.208                   3.575   \n",
       "\n",
       "       qtd_semestres_financiados  vl_total_liberado  vl_saldo_devedor  \\\n",
       "count                2863276.000        2748120.000       2748120.000   \n",
       "mean                       8.190          40620.398         41950.842   \n",
       "min                        0.000              0.000             0.000   \n",
       "25%                        7.000          13387.100         10054.118   \n",
       "50%                        8.000          28494.665         27221.450   \n",
       "75%                       10.000          52002.000         55884.080   \n",
       "max                       26.000        1456610.000        947228.500   \n",
       "std                        2.254          49846.286         56631.942   \n",
       "\n",
       "       qtd_dias_atraso  vl_saldo_devedor_atrasado  vl_nota_enem_considerada  \n",
       "count      2863276.000                2748120.000                924644.000  \n",
       "mean           592.438                   3276.700                   536.252  \n",
       "min              0.000                      0.000                     0.000  \n",
       "25%              0.000                      0.000                   497.100  \n",
       "50%             77.000                    565.455                   533.880  \n",
       "75%           1030.000                   4498.653                   573.460  \n",
       "max           7352.000                 390110.200                 32901.000  \n",
       "std            854.521                   5484.243                   295.614  "
      ]
     },
     "execution_count": 20,
     "metadata": {},
     "output_type": "execute_result"
    }
   ],
   "source": [
    "df.describe()"
   ]
  },
  {
   "cell_type": "code",
   "execution_count": null,
   "id": "7fc261ee-2832-49d4-9f0b-d859eb943011",
   "metadata": {},
   "outputs": [],
   "source": [
    "# Conferindo percentual de linhas sem dados inválidos\n",
    "df['banco'].count() / df['banco'].size"
   ]
  },
  {
   "cell_type": "code",
   "execution_count": null,
   "id": "f03b9817-fc60-4643-89cb-892dd8b71617",
   "metadata": {},
   "outputs": [],
   "source": [
    "df.info()"
   ]
  },
  {
   "cell_type": "markdown",
   "id": "35d5e94f-d9a8-43d4-a28e-85ccd81d711b",
   "metadata": {},
   "source": [
    "# Análise Exploratória\n",
    "\n",
    "## Analisando cursos"
   ]
  },
  {
   "cell_type": "code",
   "execution_count": null,
   "id": "ee4c282a-f6fd-49fc-a229-9b87ef0773be",
   "metadata": {},
   "outputs": [],
   "source": [
    "df.corr(numeric_only=True)"
   ]
  },
  {
   "cell_type": "code",
   "execution_count": null,
   "id": "10c16f21-d28e-4b21-8941-915238cb54c1",
   "metadata": {},
   "outputs": [],
   "source": [
    "freq_curso = df['curso'].value_counts(normalize=True)\n",
    "\n",
    "freq_curso[25::-1].plot(kind='barh', color='red', \n",
    "                        title='25 cursos mais frequentes')"
   ]
  },
  {
   "cell_type": "code",
   "execution_count": null,
   "id": "2bd356d4-2380-4353-8c8f-014204dee89c",
   "metadata": {},
   "outputs": [],
   "source": [
    "f'Percentual de pessoas nos 25 cursos mais frequentes:{freq_curso[:50].sum() / freq_curso.sum() * 100 : .2f}%'"
   ]
  },
  {
   "cell_type": "markdown",
   "id": "a0047947-3c45-49c7-90c7-1c20e22c1f0f",
   "metadata": {},
   "source": [
    "## Safra de entrada"
   ]
  },
  {
   "cell_type": "code",
   "execution_count": null,
   "id": "5cbd11be-e311-4050-a33f-d263fb7153ab",
   "metadata": {},
   "outputs": [],
   "source": [
    "df['safra_entrada'].unique()"
   ]
  },
  {
   "cell_type": "code",
   "execution_count": null,
   "id": "4c0705fa-f2e9-43a2-a971-4f44b78e3b59",
   "metadata": {},
   "outputs": [],
   "source": [
    "df['safra_entrada'] = df['safra_entrada'].apply(lambda x : x.replace('S', '.'))\n",
    "\n",
    "df['safra_entrada'].unique()"
   ]
  },
  {
   "cell_type": "markdown",
   "id": "ad7232f7-010d-4ccb-8526-8c7de7754aa8",
   "metadata": {},
   "source": [
    "## Data de Nascimento"
   ]
  },
  {
   "cell_type": "code",
   "execution_count": null,
   "id": "3a3f7fcf-fbd5-40bb-ae78-a28c6be9d42f",
   "metadata": {},
   "outputs": [],
   "source": [
    "def calculate_age(born):\n",
    "    today = date.today()\n",
    "    return today.year - born.year - ((today.month, today.day) < (born.month, born.day))"
   ]
  },
  {
   "cell_type": "code",
   "execution_count": null,
   "id": "9a2f927d-12e7-419d-86b3-3e7e5f3dca48",
   "metadata": {},
   "outputs": [],
   "source": [
    "df['idade'] = df['dt_nascimento'].apply(calculate_age)"
   ]
  },
  {
   "cell_type": "code",
   "execution_count": null,
   "id": "7bc436ea-8f27-4dcf-b8bd-24eab1afb752",
   "metadata": {},
   "outputs": [],
   "source": [
    "sns.histplot(\n",
    "    data=df['idade'],\n",
    "    stat='count',\n",
    "    bins=20\n",
    ")"
   ]
  },
  {
   "cell_type": "markdown",
   "id": "9e6c1e79-4f13-4446-b36a-f5269b74fbee",
   "metadata": {},
   "source": [
    "## Renda"
   ]
  },
  {
   "cell_type": "code",
   "execution_count": null,
   "id": "1a1ad3b7-0770-4bd0-be8b-95f54b40d758",
   "metadata": {},
   "outputs": [],
   "source": [
    "df[['renda_per_capita', 'renda_familiar' ]].describe()"
   ]
  },
  {
   "cell_type": "code",
   "execution_count": null,
   "id": "b1a240fa-bd15-4db7-80ea-bcb588936d38",
   "metadata": {},
   "outputs": [],
   "source": [
    "(df['renda_familiar'] \\\n",
    "    .loc[df['renda_familiar'].isna()] \\\n",
    "    .count()\n",
    ",\n",
    " \n",
    "df['renda_per_capita'] \\\n",
    "    .loc[df['renda_per_capita'].isna()] \\\n",
    "    .count())"
   ]
  },
  {
   "cell_type": "code",
   "execution_count": null,
   "id": "7f56506c-ac0a-4da1-aae5-591ebb11d991",
   "metadata": {},
   "outputs": [],
   "source": [
    "df_rendas = df[['renda_per_capita', 'renda_familiar' ]]\n",
    "\n",
    "sns.boxplot(\n",
    "    data = df_rendas,\n",
    "    showfliers=False\n",
    ")"
   ]
  },
  {
   "cell_type": "markdown",
   "id": "f1155759-72bd-4c93-a4c2-50b393542535",
   "metadata": {},
   "source": [
    "## Nota do ENEM"
   ]
  },
  {
   "cell_type": "code",
   "execution_count": null,
   "id": "864c948d-4163-4920-a9e6-cdd001b0427a",
   "metadata": {},
   "outputs": [],
   "source": [
    "qto_null = df['vl_nota_enem_considerada'].isnull().sum()\n",
    "percent_null = qto_null / df['vl_nota_enem_considerada'].size * 100\n",
    "\n",
    "plt.pie(\n",
    "    [percent_null, 100 - percent_null],\n",
    "    labels=['Valores Nulos', 'Valores Não Nulos'],\n",
    "    colors=['red', 'green']\n",
    ")\n",
    "plt.show()"
   ]
  },
  {
   "cell_type": "code",
   "execution_count": null,
   "id": "f65c5de5-2bff-4e20-83fd-8ec51a6a4cda",
   "metadata": {},
   "outputs": [],
   "source": [
    "df_enem_existe = df.loc[~df['vl_nota_enem_considerada'].isnull()]\n",
    "df_enem_existe.head()"
   ]
  },
  {
   "cell_type": "code",
   "execution_count": null,
   "id": "58d590e2-ec27-4781-b3cb-3899eb5d0ae9",
   "metadata": {},
   "outputs": [],
   "source": [
    "df_enem_existe['vl_nota_enem_considerada'].corr(df_enem_existe['renda_per_capita'])"
   ]
  },
  {
   "cell_type": "code",
   "execution_count": null,
   "id": "2c7f579f-be1d-4c2d-b6f4-5ed7ebde5687",
   "metadata": {},
   "outputs": [],
   "source": [
    "corr_total = df.corr(numeric_only=True)\n",
    "cmap = sns.diverging_palette(220, 10)\n",
    "\n",
    "sns.heatmap(corr_total, \n",
    "            annot=True, \n",
    "            cmap=cmap, \n",
    "            vmax=1,\n",
    "            vmin=-1, \n",
    "            center=0, \n",
    "            square=True,\n",
    "            linewidth=.5,\n",
    "            cbar_kws={\"shrink\":.5},\n",
    "           )\n"
   ]
  },
  {
   "cell_type": "code",
   "execution_count": null,
   "id": "de13ebd4-fdc3-4575-b8d7-96b2f909b3c5",
   "metadata": {},
   "outputs": [],
   "source": [
    "corr_apenas_enem = df_enem_existe.corr(numeric_only=True)\n",
    "cmap = sns.diverging_palette(220, 10)\n",
    "\n",
    "sns.heatmap(corr_apenas_enem, \n",
    "            annot=True, \n",
    "            cmap=cmap, \n",
    "            vmax=1,\n",
    "            vmin=-1, \n",
    "            center=0, \n",
    "            square=True,\n",
    "            linewidth=.5,\n",
    "            cbar_kws={\"shrink\":.5},\n",
    "           )"
   ]
  },
  {
   "cell_type": "markdown",
   "id": "db9549fc",
   "metadata": {},
   "source": [
    "## Percentual Solicitado"
   ]
  },
  {
   "cell_type": "code",
   "execution_count": null,
   "id": "200e7394",
   "metadata": {},
   "outputs": [],
   "source": [
    "df['percentual_solicitado'].value_counts().sort_index(ascending=False)"
   ]
  },
  {
   "cell_type": "code",
   "execution_count": null,
   "id": "a244b74c",
   "metadata": {},
   "outputs": [],
   "source": [
    "sns.histplot(\n",
    "    data=df['percentual_solicitado'],\n",
    "    stat='count',\n",
    "    bins=20\n",
    ")"
   ]
  },
  {
   "cell_type": "code",
   "execution_count": null,
   "id": "7b31af05",
   "metadata": {},
   "outputs": [],
   "source": [
    "cat_percent = pd.cut(df['percentual_solicitado'], \n",
    "    bins=[df['percentual_solicitado'].min(), 60, 80, 100, 1000], \n",
    "    labels=['< 60%', '< 80%', '< 100%', '= 100%'],\n",
    "    right=False    \n",
    ")\n",
    "cat_percent"
   ]
  },
  {
   "cell_type": "code",
   "execution_count": null,
   "id": "5bb652ef",
   "metadata": {},
   "outputs": [],
   "source": [
    "def without_hue(plot, feature):\n",
    "    total = len(feature)\n",
    "    for p in ax.patches:\n",
    "        percentage = '{:.1f}%'.format(100 * p.get_height()/total)\n",
    "        x = p.get_x() + p.get_width() / 2 - 0.05\n",
    "        y = p.get_y() + p.get_height()\n",
    "        ax.annotate(percentage, (x, y), size = 12)\n",
    "    plt.show()"
   ]
  },
  {
   "cell_type": "code",
   "execution_count": null,
   "id": "3c789ae3",
   "metadata": {},
   "outputs": [],
   "source": [
    "ax = sns.histplot(\n",
    "    data=cat_percent,\n",
    "\n",
    ")\n",
    "without_hue(ax, cat_percent)\n"
   ]
  },
  {
   "cell_type": "markdown",
   "id": "7ec895a0",
   "metadata": {},
   "source": [
    "## Sexo"
   ]
  },
  {
   "cell_type": "code",
   "execution_count": null,
   "id": "5bd193da",
   "metadata": {},
   "outputs": [],
   "source": [
    "ax = sns.histplot(\n",
    "    data=df['sexo'],\n",
    "    stat='count'\n",
    ")\n",
    "\n",
    "without_hue(ax, df['sexo'])"
   ]
  },
  {
   "cell_type": "markdown",
   "id": "09743fdd",
   "metadata": {},
   "source": [
    "## Cor/Raça\n",
    "\n",
    "No Censo, O IBGE usa somente 5 categorias fechadas para a pergunta sobre Cor/Raça."
   ]
  },
  {
   "cell_type": "code",
   "execution_count": null,
   "id": "b328b7cc",
   "metadata": {},
   "outputs": [],
   "source": [
    "ax = sns.histplot(\n",
    "    data=df['cor_raca'],\n",
    "    stat='count'\n",
    ")\n",
    "\n",
    "without_hue(ax, df['cor_raca'])"
   ]
  },
  {
   "cell_type": "markdown",
   "id": "6965c4c1",
   "metadata": {},
   "source": [
    "## Estado Civil"
   ]
  },
  {
   "cell_type": "code",
   "execution_count": null,
   "id": "60fcdf16",
   "metadata": {},
   "outputs": [],
   "source": [
    "ax = sns.histplot(\n",
    "    data=df['estado_civil'],\n",
    "    stat='count'\n",
    ")\n",
    "\n",
    "without_hue(ax, df['estado_civil'])"
   ]
  },
  {
   "cell_type": "markdown",
   "id": "e84fbf0a",
   "metadata": {},
   "source": [
    "## Banco do Financiamento"
   ]
  },
  {
   "cell_type": "code",
   "execution_count": null,
   "id": "987e3947",
   "metadata": {},
   "outputs": [],
   "source": [
    "ax = sns.histplot(\n",
    "    data=df['banco'],\n",
    "    stat='count'\n",
    ")\n",
    "\n",
    "without_hue(ax, df['banco'])"
   ]
  },
  {
   "cell_type": "markdown",
   "id": "d017840a",
   "metadata": {},
   "source": [
    "## Valor total liberado"
   ]
  },
  {
   "cell_type": "code",
   "execution_count": null,
   "id": "1866e464",
   "metadata": {},
   "outputs": [],
   "source": [
    "# Quantidade de linhas sem informação sobre 'Valor total liberado'\n",
    "df['vl_total_liberado'].isna().sum()"
   ]
  },
  {
   "cell_type": "code",
   "execution_count": null,
   "id": "f1f514b9",
   "metadata": {},
   "outputs": [],
   "source": [
    "# Percentual de linhas sem informação sobre 'Valor total liberado'\n",
    "perc = df['vl_total_liberado'].isna().sum() / len(df.index)\n",
    "print(f'{(perc * 100):.1f}%')"
   ]
  },
  {
   "cell_type": "markdown",
   "id": "27163004",
   "metadata": {},
   "source": [
    "### (esses valores parecem muito estranhos...)"
   ]
  },
  {
   "cell_type": "code",
   "execution_count": null,
   "id": "6a0bf2d8",
   "metadata": {},
   "outputs": [],
   "source": [
    "sns.histplot(\n",
    "    data=df['vl_total_liberado'].dropna(),\n",
    "    stat='count',\n",
    "    bins=20\n",
    ")"
   ]
  },
  {
   "cell_type": "code",
   "execution_count": null,
   "id": "0c88fb78",
   "metadata": {},
   "outputs": [],
   "source": [
    "cat_percent = pd.cut(df['vl_total_liberado'].dropna(), \n",
    "    bins=5, \n",
    "    right=False    \n",
    ")\n",
    "cat_percent"
   ]
  },
  {
   "cell_type": "markdown",
   "id": "98d9171c",
   "metadata": {},
   "source": [
    "## Número de Dias em Atraso"
   ]
  },
  {
   "cell_type": "code",
   "execution_count": null,
   "id": "dde5fd8f",
   "metadata": {},
   "outputs": [],
   "source": [
    "# Quantidade de linhas sem informação sobre 'Número de Dias em Atraso'\n",
    "df['qtd_dias_atraso'].isna().sum()"
   ]
  },
  {
   "cell_type": "code",
   "execution_count": null,
   "id": "0184d172",
   "metadata": {},
   "outputs": [],
   "source": [
    "sns.histplot(\n",
    "    data=df['qtd_dias_atraso'],\n",
    "    stat='count',\n",
    "    bins=20\n",
    ")"
   ]
  },
  {
   "cell_type": "code",
   "execution_count": null,
   "id": "edc1e3fb",
   "metadata": {},
   "outputs": [],
   "source": [
    "cat_percent = pd.cut(df['qtd_dias_atraso'], \n",
    "    bins=[df['qtd_dias_atraso'].min(), 1, 1000, 2000, 8000], \n",
    "    labels=['< 1', '< 1000', '< 2000', '>= 2000'],\n",
    "    right=False    \n",
    ")\n",
    "cat_percent"
   ]
  },
  {
   "cell_type": "code",
   "execution_count": null,
   "id": "d67b8dbf",
   "metadata": {},
   "outputs": [],
   "source": [
    "ax = sns.histplot(\n",
    "    data=cat_percent,\n",
    "\n",
    ")\n",
    "without_hue(ax, cat_percent)"
   ]
  },
  {
   "cell_type": "markdown",
   "id": "e93204ab",
   "metadata": {},
   "source": [
    "Falta fazer isso:\n",
    "\n",
    "6. vl_saldo_devedor\n",
    "7. vl_saldo_devedor_atrasado"
   ]
  },
  {
   "cell_type": "markdown",
   "id": "98ac9961-6523-435b-b109-d6dbd52be586",
   "metadata": {},
   "source": [
    "# Removendo outliers\n",
    "\n",
    "1. Remover idades estranhas"
   ]
  },
  {
   "cell_type": "code",
   "execution_count": null,
   "id": "435ba5cf-cc4a-4694-b44f-d5d4ff653a1d",
   "metadata": {},
   "outputs": [],
   "source": [
    "df['idade'].describe()"
   ]
  },
  {
   "cell_type": "code",
   "execution_count": null,
   "id": "39659f74",
   "metadata": {},
   "outputs": [],
   "source": [
    "df.loc[df['idade'].idxmax()]"
   ]
  },
  {
   "cell_type": "code",
   "execution_count": null,
   "id": "12e4351e",
   "metadata": {},
   "outputs": [],
   "source": [
    "df = df.loc[df['idade'] <= 80]\n",
    "\n",
    "df['idade'].describe()"
   ]
  },
  {
   "cell_type": "code",
   "execution_count": null,
   "id": "abee865b",
   "metadata": {},
   "outputs": [],
   "source": []
  }
 ],
 "metadata": {
  "kernelspec": {
   "display_name": "Python 3 (ipykernel)",
   "language": "python",
   "name": "python3"
  },
  "language_info": {
   "codemirror_mode": {
    "name": "ipython",
    "version": 3
   },
   "file_extension": ".py",
   "mimetype": "text/x-python",
   "name": "python",
   "nbconvert_exporter": "python",
   "pygments_lexer": "ipython3",
   "version": "3.11.6"
  }
 },
 "nbformat": 4,
 "nbformat_minor": 5
}
